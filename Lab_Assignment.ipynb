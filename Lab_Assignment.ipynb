{
  "nbformat": 4,
  "nbformat_minor": 0,
  "metadata": {
    "colab": {
      "provenance": [],
      "authorship_tag": "ABX9TyO9wYBcX8B8+ZsAHDuQc5rB",
      "include_colab_link": true
    },
    "kernelspec": {
      "name": "python3",
      "display_name": "Python 3"
    },
    "language_info": {
      "name": "python"
    },
    "widgets": {
      "application/vnd.jupyter.widget-state+json": {
        "dd0d54a62c45498ea56790151bec30a5": {
          "model_module": "@jupyter-widgets/controls",
          "model_name": "HBoxModel",
          "model_module_version": "1.5.0",
          "state": {
            "_dom_classes": [],
            "_model_module": "@jupyter-widgets/controls",
            "_model_module_version": "1.5.0",
            "_model_name": "HBoxModel",
            "_view_count": null,
            "_view_module": "@jupyter-widgets/controls",
            "_view_module_version": "1.5.0",
            "_view_name": "HBoxView",
            "box_style": "",
            "children": [
              "IPY_MODEL_144a573b865243cb8b4116841774db9e",
              "IPY_MODEL_19ebb24a29bd4d3abd873b7493d00bf8",
              "IPY_MODEL_79f19929450c475f8cf7f5e4ce38b25f"
            ],
            "layout": "IPY_MODEL_ca3e0e747f414c289c765407b1374b5b"
          }
        },
        "144a573b865243cb8b4116841774db9e": {
          "model_module": "@jupyter-widgets/controls",
          "model_name": "HTMLModel",
          "model_module_version": "1.5.0",
          "state": {
            "_dom_classes": [],
            "_model_module": "@jupyter-widgets/controls",
            "_model_module_version": "1.5.0",
            "_model_name": "HTMLModel",
            "_view_count": null,
            "_view_module": "@jupyter-widgets/controls",
            "_view_module_version": "1.5.0",
            "_view_name": "HTMLView",
            "description": "",
            "description_tooltip": null,
            "layout": "IPY_MODEL_3a008eafd2854598966fd3f36cfa2b32",
            "placeholder": "​",
            "style": "IPY_MODEL_c0ee25f996c04fa0967654edca7d8966",
            "value": "Processing: 100%"
          }
        },
        "19ebb24a29bd4d3abd873b7493d00bf8": {
          "model_module": "@jupyter-widgets/controls",
          "model_name": "FloatProgressModel",
          "model_module_version": "1.5.0",
          "state": {
            "_dom_classes": [],
            "_model_module": "@jupyter-widgets/controls",
            "_model_module_version": "1.5.0",
            "_model_name": "FloatProgressModel",
            "_view_count": null,
            "_view_module": "@jupyter-widgets/controls",
            "_view_module_version": "1.5.0",
            "_view_name": "ProgressView",
            "bar_style": "",
            "description": "",
            "description_tooltip": null,
            "layout": "IPY_MODEL_55a1a70ce8e04ae49df3fd66e83fcf05",
            "max": 81,
            "min": 0,
            "orientation": "horizontal",
            "style": "IPY_MODEL_5b448b7bbcf6416ea8f6ea750723dcef",
            "value": 81
          }
        },
        "79f19929450c475f8cf7f5e4ce38b25f": {
          "model_module": "@jupyter-widgets/controls",
          "model_name": "HTMLModel",
          "model_module_version": "1.5.0",
          "state": {
            "_dom_classes": [],
            "_model_module": "@jupyter-widgets/controls",
            "_model_module_version": "1.5.0",
            "_model_name": "HTMLModel",
            "_view_count": null,
            "_view_module": "@jupyter-widgets/controls",
            "_view_module_version": "1.5.0",
            "_view_name": "HTMLView",
            "description": "",
            "description_tooltip": null,
            "layout": "IPY_MODEL_d64095f6286a4cadacba52d33c98b3ad",
            "placeholder": "​",
            "style": "IPY_MODEL_3cab9498e3dd446b9b4dbfab9d1ea195",
            "value": " 81/81 [00:53&lt;00:00,  2.03it/s]"
          }
        },
        "ca3e0e747f414c289c765407b1374b5b": {
          "model_module": "@jupyter-widgets/base",
          "model_name": "LayoutModel",
          "model_module_version": "1.2.0",
          "state": {
            "_model_module": "@jupyter-widgets/base",
            "_model_module_version": "1.2.0",
            "_model_name": "LayoutModel",
            "_view_count": null,
            "_view_module": "@jupyter-widgets/base",
            "_view_module_version": "1.2.0",
            "_view_name": "LayoutView",
            "align_content": null,
            "align_items": null,
            "align_self": null,
            "border": null,
            "bottom": null,
            "display": null,
            "flex": null,
            "flex_flow": null,
            "grid_area": null,
            "grid_auto_columns": null,
            "grid_auto_flow": null,
            "grid_auto_rows": null,
            "grid_column": null,
            "grid_gap": null,
            "grid_row": null,
            "grid_template_areas": null,
            "grid_template_columns": null,
            "grid_template_rows": null,
            "height": null,
            "justify_content": null,
            "justify_items": null,
            "left": null,
            "margin": null,
            "max_height": null,
            "max_width": null,
            "min_height": null,
            "min_width": null,
            "object_fit": null,
            "object_position": null,
            "order": null,
            "overflow": null,
            "overflow_x": null,
            "overflow_y": null,
            "padding": null,
            "right": null,
            "top": null,
            "visibility": "hidden",
            "width": null
          }
        },
        "3a008eafd2854598966fd3f36cfa2b32": {
          "model_module": "@jupyter-widgets/base",
          "model_name": "LayoutModel",
          "model_module_version": "1.2.0",
          "state": {
            "_model_module": "@jupyter-widgets/base",
            "_model_module_version": "1.2.0",
            "_model_name": "LayoutModel",
            "_view_count": null,
            "_view_module": "@jupyter-widgets/base",
            "_view_module_version": "1.2.0",
            "_view_name": "LayoutView",
            "align_content": null,
            "align_items": null,
            "align_self": null,
            "border": null,
            "bottom": null,
            "display": null,
            "flex": null,
            "flex_flow": null,
            "grid_area": null,
            "grid_auto_columns": null,
            "grid_auto_flow": null,
            "grid_auto_rows": null,
            "grid_column": null,
            "grid_gap": null,
            "grid_row": null,
            "grid_template_areas": null,
            "grid_template_columns": null,
            "grid_template_rows": null,
            "height": null,
            "justify_content": null,
            "justify_items": null,
            "left": null,
            "margin": null,
            "max_height": null,
            "max_width": null,
            "min_height": null,
            "min_width": null,
            "object_fit": null,
            "object_position": null,
            "order": null,
            "overflow": null,
            "overflow_x": null,
            "overflow_y": null,
            "padding": null,
            "right": null,
            "top": null,
            "visibility": null,
            "width": null
          }
        },
        "c0ee25f996c04fa0967654edca7d8966": {
          "model_module": "@jupyter-widgets/controls",
          "model_name": "DescriptionStyleModel",
          "model_module_version": "1.5.0",
          "state": {
            "_model_module": "@jupyter-widgets/controls",
            "_model_module_version": "1.5.0",
            "_model_name": "DescriptionStyleModel",
            "_view_count": null,
            "_view_module": "@jupyter-widgets/base",
            "_view_module_version": "1.2.0",
            "_view_name": "StyleView",
            "description_width": ""
          }
        },
        "55a1a70ce8e04ae49df3fd66e83fcf05": {
          "model_module": "@jupyter-widgets/base",
          "model_name": "LayoutModel",
          "model_module_version": "1.2.0",
          "state": {
            "_model_module": "@jupyter-widgets/base",
            "_model_module_version": "1.2.0",
            "_model_name": "LayoutModel",
            "_view_count": null,
            "_view_module": "@jupyter-widgets/base",
            "_view_module_version": "1.2.0",
            "_view_name": "LayoutView",
            "align_content": null,
            "align_items": null,
            "align_self": null,
            "border": null,
            "bottom": null,
            "display": null,
            "flex": null,
            "flex_flow": null,
            "grid_area": null,
            "grid_auto_columns": null,
            "grid_auto_flow": null,
            "grid_auto_rows": null,
            "grid_column": null,
            "grid_gap": null,
            "grid_row": null,
            "grid_template_areas": null,
            "grid_template_columns": null,
            "grid_template_rows": null,
            "height": null,
            "justify_content": null,
            "justify_items": null,
            "left": null,
            "margin": null,
            "max_height": null,
            "max_width": null,
            "min_height": null,
            "min_width": null,
            "object_fit": null,
            "object_position": null,
            "order": null,
            "overflow": null,
            "overflow_x": null,
            "overflow_y": null,
            "padding": null,
            "right": null,
            "top": null,
            "visibility": null,
            "width": null
          }
        },
        "5b448b7bbcf6416ea8f6ea750723dcef": {
          "model_module": "@jupyter-widgets/controls",
          "model_name": "ProgressStyleModel",
          "model_module_version": "1.5.0",
          "state": {
            "_model_module": "@jupyter-widgets/controls",
            "_model_module_version": "1.5.0",
            "_model_name": "ProgressStyleModel",
            "_view_count": null,
            "_view_module": "@jupyter-widgets/base",
            "_view_module_version": "1.2.0",
            "_view_name": "StyleView",
            "bar_color": null,
            "description_width": ""
          }
        },
        "d64095f6286a4cadacba52d33c98b3ad": {
          "model_module": "@jupyter-widgets/base",
          "model_name": "LayoutModel",
          "model_module_version": "1.2.0",
          "state": {
            "_model_module": "@jupyter-widgets/base",
            "_model_module_version": "1.2.0",
            "_model_name": "LayoutModel",
            "_view_count": null,
            "_view_module": "@jupyter-widgets/base",
            "_view_module_version": "1.2.0",
            "_view_name": "LayoutView",
            "align_content": null,
            "align_items": null,
            "align_self": null,
            "border": null,
            "bottom": null,
            "display": null,
            "flex": null,
            "flex_flow": null,
            "grid_area": null,
            "grid_auto_columns": null,
            "grid_auto_flow": null,
            "grid_auto_rows": null,
            "grid_column": null,
            "grid_gap": null,
            "grid_row": null,
            "grid_template_areas": null,
            "grid_template_columns": null,
            "grid_template_rows": null,
            "height": null,
            "justify_content": null,
            "justify_items": null,
            "left": null,
            "margin": null,
            "max_height": null,
            "max_width": null,
            "min_height": null,
            "min_width": null,
            "object_fit": null,
            "object_position": null,
            "order": null,
            "overflow": null,
            "overflow_x": null,
            "overflow_y": null,
            "padding": null,
            "right": null,
            "top": null,
            "visibility": null,
            "width": null
          }
        },
        "3cab9498e3dd446b9b4dbfab9d1ea195": {
          "model_module": "@jupyter-widgets/controls",
          "model_name": "DescriptionStyleModel",
          "model_module_version": "1.5.0",
          "state": {
            "_model_module": "@jupyter-widgets/controls",
            "_model_module_version": "1.5.0",
            "_model_name": "DescriptionStyleModel",
            "_view_count": null,
            "_view_module": "@jupyter-widgets/base",
            "_view_module_version": "1.2.0",
            "_view_name": "StyleView",
            "description_width": ""
          }
        },
        "6623b4f8450a410182c40c747e8a316d": {
          "model_module": "@jupyter-widgets/controls",
          "model_name": "VBoxModel",
          "model_module_version": "1.5.0",
          "state": {
            "_dom_classes": [
              "widget-interact"
            ],
            "_model_module": "@jupyter-widgets/controls",
            "_model_module_version": "1.5.0",
            "_model_name": "VBoxModel",
            "_view_count": null,
            "_view_module": "@jupyter-widgets/controls",
            "_view_module_version": "1.5.0",
            "_view_name": "VBoxView",
            "box_style": "",
            "children": [
              "IPY_MODEL_2c41532de68e4d97949e37c48c129964",
              "IPY_MODEL_4d733863aafa40e3a13876edbc0038a2"
            ],
            "layout": "IPY_MODEL_1967b672374b439fba682fd9a48d363c"
          }
        },
        "2c41532de68e4d97949e37c48c129964": {
          "model_module": "@jupyter-widgets/controls",
          "model_name": "ToggleButtonsModel",
          "model_module_version": "1.5.0",
          "state": {
            "_dom_classes": [],
            "_model_module": "@jupyter-widgets/controls",
            "_model_module_version": "1.5.0",
            "_model_name": "ToggleButtonsModel",
            "_options_labels": [
              "Pipeline Plot",
              "Hyperparameters",
              "Residuals",
              "Prediction Error",
              "Cooks Distance",
              "Feature Selection",
              "Learning Curve",
              "Manifold Learning",
              "Validation Curve",
              "Feature Importance",
              "Feature Importance (All)",
              "Decision Tree",
              "Interactive Residuals"
            ],
            "_view_count": null,
            "_view_module": "@jupyter-widgets/controls",
            "_view_module_version": "1.5.0",
            "_view_name": "ToggleButtonsView",
            "button_style": "",
            "description": "Plot Type:",
            "description_tooltip": null,
            "disabled": false,
            "icons": [
              ""
            ],
            "index": 0,
            "layout": "IPY_MODEL_64e9ebe3eb374b089e944d866189419c",
            "style": "IPY_MODEL_4eb1cf0e1d824a1685d1c25bcba904e1",
            "tooltips": []
          }
        },
        "4d733863aafa40e3a13876edbc0038a2": {
          "model_module": "@jupyter-widgets/output",
          "model_name": "OutputModel",
          "model_module_version": "1.0.0",
          "state": {
            "_dom_classes": [],
            "_model_module": "@jupyter-widgets/output",
            "_model_module_version": "1.0.0",
            "_model_name": "OutputModel",
            "_view_count": null,
            "_view_module": "@jupyter-widgets/output",
            "_view_module_version": "1.0.0",
            "_view_name": "OutputView",
            "layout": "IPY_MODEL_d195becf76104ba6bc256dd186bdd9f6",
            "msg_id": "",
            "outputs": [
              {
                "output_type": "display_data",
                "data": {
                  "text/plain": "<Figure size 2200x600 with 1 Axes>",
                  "image/png": "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\n"
                },
                "metadata": {}
              }
            ]
          }
        },
        "1967b672374b439fba682fd9a48d363c": {
          "model_module": "@jupyter-widgets/base",
          "model_name": "LayoutModel",
          "model_module_version": "1.2.0",
          "state": {
            "_model_module": "@jupyter-widgets/base",
            "_model_module_version": "1.2.0",
            "_model_name": "LayoutModel",
            "_view_count": null,
            "_view_module": "@jupyter-widgets/base",
            "_view_module_version": "1.2.0",
            "_view_name": "LayoutView",
            "align_content": null,
            "align_items": null,
            "align_self": null,
            "border": null,
            "bottom": null,
            "display": null,
            "flex": null,
            "flex_flow": null,
            "grid_area": null,
            "grid_auto_columns": null,
            "grid_auto_flow": null,
            "grid_auto_rows": null,
            "grid_column": null,
            "grid_gap": null,
            "grid_row": null,
            "grid_template_areas": null,
            "grid_template_columns": null,
            "grid_template_rows": null,
            "height": null,
            "justify_content": null,
            "justify_items": null,
            "left": null,
            "margin": null,
            "max_height": null,
            "max_width": null,
            "min_height": null,
            "min_width": null,
            "object_fit": null,
            "object_position": null,
            "order": null,
            "overflow": null,
            "overflow_x": null,
            "overflow_y": null,
            "padding": null,
            "right": null,
            "top": null,
            "visibility": null,
            "width": null
          }
        },
        "64e9ebe3eb374b089e944d866189419c": {
          "model_module": "@jupyter-widgets/base",
          "model_name": "LayoutModel",
          "model_module_version": "1.2.0",
          "state": {
            "_model_module": "@jupyter-widgets/base",
            "_model_module_version": "1.2.0",
            "_model_name": "LayoutModel",
            "_view_count": null,
            "_view_module": "@jupyter-widgets/base",
            "_view_module_version": "1.2.0",
            "_view_name": "LayoutView",
            "align_content": null,
            "align_items": null,
            "align_self": null,
            "border": null,
            "bottom": null,
            "display": null,
            "flex": null,
            "flex_flow": null,
            "grid_area": null,
            "grid_auto_columns": null,
            "grid_auto_flow": null,
            "grid_auto_rows": null,
            "grid_column": null,
            "grid_gap": null,
            "grid_row": null,
            "grid_template_areas": null,
            "grid_template_columns": null,
            "grid_template_rows": null,
            "height": null,
            "justify_content": null,
            "justify_items": null,
            "left": null,
            "margin": null,
            "max_height": null,
            "max_width": null,
            "min_height": null,
            "min_width": null,
            "object_fit": null,
            "object_position": null,
            "order": null,
            "overflow": null,
            "overflow_x": null,
            "overflow_y": null,
            "padding": null,
            "right": null,
            "top": null,
            "visibility": null,
            "width": null
          }
        },
        "4eb1cf0e1d824a1685d1c25bcba904e1": {
          "model_module": "@jupyter-widgets/controls",
          "model_name": "ToggleButtonsStyleModel",
          "model_module_version": "1.5.0",
          "state": {
            "_model_module": "@jupyter-widgets/controls",
            "_model_module_version": "1.5.0",
            "_model_name": "ToggleButtonsStyleModel",
            "_view_count": null,
            "_view_module": "@jupyter-widgets/base",
            "_view_module_version": "1.2.0",
            "_view_name": "StyleView",
            "button_width": "",
            "description_width": "",
            "font_weight": ""
          }
        },
        "d195becf76104ba6bc256dd186bdd9f6": {
          "model_module": "@jupyter-widgets/base",
          "model_name": "LayoutModel",
          "model_module_version": "1.2.0",
          "state": {
            "_model_module": "@jupyter-widgets/base",
            "_model_module_version": "1.2.0",
            "_model_name": "LayoutModel",
            "_view_count": null,
            "_view_module": "@jupyter-widgets/base",
            "_view_module_version": "1.2.0",
            "_view_name": "LayoutView",
            "align_content": null,
            "align_items": null,
            "align_self": null,
            "border": null,
            "bottom": null,
            "display": null,
            "flex": null,
            "flex_flow": null,
            "grid_area": null,
            "grid_auto_columns": null,
            "grid_auto_flow": null,
            "grid_auto_rows": null,
            "grid_column": null,
            "grid_gap": null,
            "grid_row": null,
            "grid_template_areas": null,
            "grid_template_columns": null,
            "grid_template_rows": null,
            "height": null,
            "justify_content": null,
            "justify_items": null,
            "left": null,
            "margin": null,
            "max_height": null,
            "max_width": null,
            "min_height": null,
            "min_width": null,
            "object_fit": null,
            "object_position": null,
            "order": null,
            "overflow": null,
            "overflow_x": null,
            "overflow_y": null,
            "padding": null,
            "right": null,
            "top": null,
            "visibility": null,
            "width": null
          }
        }
      }
    }
  },
  "cells": [
    {
      "cell_type": "markdown",
      "metadata": {
        "id": "view-in-github",
        "colab_type": "text"
      },
      "source": [
        "<a href=\"https://colab.research.google.com/github/arjit195/lab-Assignment/blob/main/Lab_Assignment.ipynb\" target=\"_parent\"><img src=\"https://colab.research.google.com/assets/colab-badge.svg\" alt=\"Open In Colab\"/></a>"
      ]
    },
    {
      "cell_type": "code",
      "execution_count": 59,
      "metadata": {
        "colab": {
          "base_uri": "https://localhost:8080/"
        },
        "id": "SiKudLB03qXG",
        "outputId": "5f8e2655-943b-4ea6-a683-e0c4951b9348"
      },
      "outputs": [
        {
          "output_type": "stream",
          "name": "stdout",
          "text": [
            "Requirement already satisfied: pycaret in /usr/local/lib/python3.10/dist-packages (3.3.2)\n",
            "Requirement already satisfied: ipython>=5.5.0 in /usr/local/lib/python3.10/dist-packages (from pycaret) (7.34.0)\n",
            "Requirement already satisfied: ipywidgets>=7.6.5 in /usr/local/lib/python3.10/dist-packages (from pycaret) (7.7.1)\n",
            "Requirement already satisfied: tqdm>=4.62.0 in /usr/local/lib/python3.10/dist-packages (from pycaret) (4.67.1)\n",
            "Requirement already satisfied: numpy<1.27,>=1.21 in /usr/local/lib/python3.10/dist-packages (from pycaret) (1.26.4)\n",
            "Requirement already satisfied: pandas<2.2.0 in /usr/local/lib/python3.10/dist-packages (from pycaret) (2.1.4)\n",
            "Requirement already satisfied: jinja2>=3 in /usr/local/lib/python3.10/dist-packages (from pycaret) (3.1.4)\n",
            "Requirement already satisfied: scipy<=1.11.4,>=1.6.1 in /usr/local/lib/python3.10/dist-packages (from pycaret) (1.11.4)\n",
            "Requirement already satisfied: joblib<1.4,>=1.2.0 in /usr/local/lib/python3.10/dist-packages (from pycaret) (1.3.2)\n",
            "Requirement already satisfied: scikit-learn>1.4.0 in /usr/local/lib/python3.10/dist-packages (from pycaret) (1.4.2)\n",
            "Requirement already satisfied: pyod>=1.1.3 in /usr/local/lib/python3.10/dist-packages (from pycaret) (2.0.2)\n",
            "Requirement already satisfied: imbalanced-learn>=0.12.0 in /usr/local/lib/python3.10/dist-packages (from pycaret) (0.12.4)\n",
            "Requirement already satisfied: category-encoders>=2.4.0 in /usr/local/lib/python3.10/dist-packages (from pycaret) (2.6.4)\n",
            "Requirement already satisfied: lightgbm>=3.0.0 in /usr/local/lib/python3.10/dist-packages (from pycaret) (4.5.0)\n",
            "Requirement already satisfied: numba>=0.55.0 in /usr/local/lib/python3.10/dist-packages (from pycaret) (0.60.0)\n",
            "Requirement already satisfied: requests>=2.27.1 in /usr/local/lib/python3.10/dist-packages (from pycaret) (2.32.3)\n",
            "Requirement already satisfied: psutil>=5.9.0 in /usr/local/lib/python3.10/dist-packages (from pycaret) (5.9.5)\n",
            "Requirement already satisfied: markupsafe>=2.0.1 in /usr/local/lib/python3.10/dist-packages (from pycaret) (3.0.2)\n",
            "Requirement already satisfied: importlib-metadata>=4.12.0 in /usr/local/lib/python3.10/dist-packages (from pycaret) (8.5.0)\n",
            "Requirement already satisfied: nbformat>=4.2.0 in /usr/local/lib/python3.10/dist-packages (from pycaret) (5.10.4)\n",
            "Requirement already satisfied: cloudpickle in /usr/local/lib/python3.10/dist-packages (from pycaret) (3.1.0)\n",
            "Requirement already satisfied: deprecation>=2.1.0 in /usr/local/lib/python3.10/dist-packages (from pycaret) (2.1.0)\n",
            "Requirement already satisfied: xxhash in /usr/local/lib/python3.10/dist-packages (from pycaret) (3.5.0)\n",
            "Requirement already satisfied: matplotlib<3.8.0 in /usr/local/lib/python3.10/dist-packages (from pycaret) (3.7.5)\n",
            "Requirement already satisfied: scikit-plot>=0.3.7 in /usr/local/lib/python3.10/dist-packages (from pycaret) (0.3.7)\n",
            "Requirement already satisfied: yellowbrick>=1.4 in /usr/local/lib/python3.10/dist-packages (from pycaret) (1.5)\n",
            "Requirement already satisfied: plotly>=5.14.0 in /usr/local/lib/python3.10/dist-packages (from pycaret) (5.24.1)\n",
            "Requirement already satisfied: kaleido>=0.2.1 in /usr/local/lib/python3.10/dist-packages (from pycaret) (0.2.1)\n",
            "Requirement already satisfied: schemdraw==0.15 in /usr/local/lib/python3.10/dist-packages (from pycaret) (0.15)\n",
            "Requirement already satisfied: plotly-resampler>=0.8.3.1 in /usr/local/lib/python3.10/dist-packages (from pycaret) (0.10.0)\n",
            "Requirement already satisfied: statsmodels>=0.12.1 in /usr/local/lib/python3.10/dist-packages (from pycaret) (0.14.4)\n",
            "Requirement already satisfied: sktime==0.26.0 in /usr/local/lib/python3.10/dist-packages (from pycaret) (0.26.0)\n",
            "Requirement already satisfied: tbats>=1.1.3 in /usr/local/lib/python3.10/dist-packages (from pycaret) (1.1.3)\n",
            "Requirement already satisfied: pmdarima>=2.0.4 in /usr/local/lib/python3.10/dist-packages (from pycaret) (2.0.4)\n",
            "Requirement already satisfied: wurlitzer in /usr/local/lib/python3.10/dist-packages (from pycaret) (3.1.1)\n",
            "Requirement already satisfied: packaging in /usr/local/lib/python3.10/dist-packages (from sktime==0.26.0->pycaret) (24.2)\n",
            "Requirement already satisfied: scikit-base<0.8.0 in /usr/local/lib/python3.10/dist-packages (from sktime==0.26.0->pycaret) (0.7.8)\n",
            "Requirement already satisfied: patsy>=0.5.1 in /usr/local/lib/python3.10/dist-packages (from category-encoders>=2.4.0->pycaret) (1.0.1)\n",
            "Requirement already satisfied: threadpoolctl>=2.0.0 in /usr/local/lib/python3.10/dist-packages (from imbalanced-learn>=0.12.0->pycaret) (3.5.0)\n",
            "Requirement already satisfied: zipp>=3.20 in /usr/local/lib/python3.10/dist-packages (from importlib-metadata>=4.12.0->pycaret) (3.21.0)\n",
            "Requirement already satisfied: setuptools>=18.5 in /usr/local/lib/python3.10/dist-packages (from ipython>=5.5.0->pycaret) (75.1.0)\n",
            "Requirement already satisfied: jedi>=0.16 in /usr/local/lib/python3.10/dist-packages (from ipython>=5.5.0->pycaret) (0.19.2)\n",
            "Requirement already satisfied: decorator in /usr/local/lib/python3.10/dist-packages (from ipython>=5.5.0->pycaret) (4.4.2)\n",
            "Requirement already satisfied: pickleshare in /usr/local/lib/python3.10/dist-packages (from ipython>=5.5.0->pycaret) (0.7.5)\n",
            "Requirement already satisfied: traitlets>=4.2 in /usr/local/lib/python3.10/dist-packages (from ipython>=5.5.0->pycaret) (5.7.1)\n",
            "Requirement already satisfied: prompt-toolkit!=3.0.0,!=3.0.1,<3.1.0,>=2.0.0 in /usr/local/lib/python3.10/dist-packages (from ipython>=5.5.0->pycaret) (3.0.48)\n",
            "Requirement already satisfied: pygments in /usr/local/lib/python3.10/dist-packages (from ipython>=5.5.0->pycaret) (2.18.0)\n",
            "Requirement already satisfied: backcall in /usr/local/lib/python3.10/dist-packages (from ipython>=5.5.0->pycaret) (0.2.0)\n",
            "Requirement already satisfied: matplotlib-inline in /usr/local/lib/python3.10/dist-packages (from ipython>=5.5.0->pycaret) (0.1.7)\n",
            "Requirement already satisfied: pexpect>4.3 in /usr/local/lib/python3.10/dist-packages (from ipython>=5.5.0->pycaret) (4.9.0)\n",
            "Requirement already satisfied: ipykernel>=4.5.1 in /usr/local/lib/python3.10/dist-packages (from ipywidgets>=7.6.5->pycaret) (5.5.6)\n",
            "Requirement already satisfied: ipython-genutils~=0.2.0 in /usr/local/lib/python3.10/dist-packages (from ipywidgets>=7.6.5->pycaret) (0.2.0)\n",
            "Requirement already satisfied: widgetsnbextension~=3.6.0 in /usr/local/lib/python3.10/dist-packages (from ipywidgets>=7.6.5->pycaret) (3.6.10)\n",
            "Requirement already satisfied: jupyterlab-widgets>=1.0.0 in /usr/local/lib/python3.10/dist-packages (from ipywidgets>=7.6.5->pycaret) (3.0.13)\n",
            "Requirement already satisfied: contourpy>=1.0.1 in /usr/local/lib/python3.10/dist-packages (from matplotlib<3.8.0->pycaret) (1.3.1)\n",
            "Requirement already satisfied: cycler>=0.10 in /usr/local/lib/python3.10/dist-packages (from matplotlib<3.8.0->pycaret) (0.12.1)\n",
            "Requirement already satisfied: fonttools>=4.22.0 in /usr/local/lib/python3.10/dist-packages (from matplotlib<3.8.0->pycaret) (4.55.3)\n",
            "Requirement already satisfied: kiwisolver>=1.0.1 in /usr/local/lib/python3.10/dist-packages (from matplotlib<3.8.0->pycaret) (1.4.7)\n",
            "Requirement already satisfied: pillow>=6.2.0 in /usr/local/lib/python3.10/dist-packages (from matplotlib<3.8.0->pycaret) (11.0.0)\n",
            "Requirement already satisfied: pyparsing>=2.3.1 in /usr/local/lib/python3.10/dist-packages (from matplotlib<3.8.0->pycaret) (3.2.0)\n",
            "Requirement already satisfied: python-dateutil>=2.7 in /usr/local/lib/python3.10/dist-packages (from matplotlib<3.8.0->pycaret) (2.8.2)\n",
            "Requirement already satisfied: fastjsonschema>=2.15 in /usr/local/lib/python3.10/dist-packages (from nbformat>=4.2.0->pycaret) (2.21.1)\n",
            "Requirement already satisfied: jsonschema>=2.6 in /usr/local/lib/python3.10/dist-packages (from nbformat>=4.2.0->pycaret) (4.23.0)\n",
            "Requirement already satisfied: jupyter-core!=5.0.*,>=4.12 in /usr/local/lib/python3.10/dist-packages (from nbformat>=4.2.0->pycaret) (5.7.2)\n",
            "Requirement already satisfied: llvmlite<0.44,>=0.43.0dev0 in /usr/local/lib/python3.10/dist-packages (from numba>=0.55.0->pycaret) (0.43.0)\n",
            "Requirement already satisfied: pytz>=2020.1 in /usr/local/lib/python3.10/dist-packages (from pandas<2.2.0->pycaret) (2024.2)\n",
            "Requirement already satisfied: tzdata>=2022.1 in /usr/local/lib/python3.10/dist-packages (from pandas<2.2.0->pycaret) (2024.2)\n",
            "Requirement already satisfied: tenacity>=6.2.0 in /usr/local/lib/python3.10/dist-packages (from plotly>=5.14.0->pycaret) (9.0.0)\n",
            "Requirement already satisfied: dash>=2.9.0 in /usr/local/lib/python3.10/dist-packages (from plotly-resampler>=0.8.3.1->pycaret) (2.18.2)\n",
            "Requirement already satisfied: orjson<4.0.0,>=3.8.0 in /usr/local/lib/python3.10/dist-packages (from plotly-resampler>=0.8.3.1->pycaret) (3.10.12)\n",
            "Requirement already satisfied: tsdownsample>=0.1.3 in /usr/local/lib/python3.10/dist-packages (from plotly-resampler>=0.8.3.1->pycaret) (0.1.3)\n",
            "Requirement already satisfied: Cython!=0.29.18,!=0.29.31,>=0.29 in /usr/local/lib/python3.10/dist-packages (from pmdarima>=2.0.4->pycaret) (3.0.11)\n",
            "Requirement already satisfied: urllib3 in /usr/local/lib/python3.10/dist-packages (from pmdarima>=2.0.4->pycaret) (2.2.3)\n",
            "Requirement already satisfied: charset-normalizer<4,>=2 in /usr/local/lib/python3.10/dist-packages (from requests>=2.27.1->pycaret) (3.4.0)\n",
            "Requirement already satisfied: idna<4,>=2.5 in /usr/local/lib/python3.10/dist-packages (from requests>=2.27.1->pycaret) (3.10)\n",
            "Requirement already satisfied: certifi>=2017.4.17 in /usr/local/lib/python3.10/dist-packages (from requests>=2.27.1->pycaret) (2024.12.14)\n",
            "Requirement already satisfied: Flask<3.1,>=1.0.4 in /usr/local/lib/python3.10/dist-packages (from dash>=2.9.0->plotly-resampler>=0.8.3.1->pycaret) (3.0.3)\n",
            "Requirement already satisfied: Werkzeug<3.1 in /usr/local/lib/python3.10/dist-packages (from dash>=2.9.0->plotly-resampler>=0.8.3.1->pycaret) (3.0.6)\n",
            "Requirement already satisfied: dash-html-components==2.0.0 in /usr/local/lib/python3.10/dist-packages (from dash>=2.9.0->plotly-resampler>=0.8.3.1->pycaret) (2.0.0)\n",
            "Requirement already satisfied: dash-core-components==2.0.0 in /usr/local/lib/python3.10/dist-packages (from dash>=2.9.0->plotly-resampler>=0.8.3.1->pycaret) (2.0.0)\n",
            "Requirement already satisfied: dash-table==5.0.0 in /usr/local/lib/python3.10/dist-packages (from dash>=2.9.0->plotly-resampler>=0.8.3.1->pycaret) (5.0.0)\n",
            "Requirement already satisfied: typing-extensions>=4.1.1 in /usr/local/lib/python3.10/dist-packages (from dash>=2.9.0->plotly-resampler>=0.8.3.1->pycaret) (4.12.2)\n",
            "Requirement already satisfied: retrying in /usr/local/lib/python3.10/dist-packages (from dash>=2.9.0->plotly-resampler>=0.8.3.1->pycaret) (1.3.4)\n",
            "Requirement already satisfied: nest-asyncio in /usr/local/lib/python3.10/dist-packages (from dash>=2.9.0->plotly-resampler>=0.8.3.1->pycaret) (1.6.0)\n",
            "Requirement already satisfied: jupyter-client in /usr/local/lib/python3.10/dist-packages (from ipykernel>=4.5.1->ipywidgets>=7.6.5->pycaret) (6.1.12)\n",
            "Requirement already satisfied: tornado>=4.2 in /usr/local/lib/python3.10/dist-packages (from ipykernel>=4.5.1->ipywidgets>=7.6.5->pycaret) (6.3.3)\n",
            "Requirement already satisfied: parso<0.9.0,>=0.8.4 in /usr/local/lib/python3.10/dist-packages (from jedi>=0.16->ipython>=5.5.0->pycaret) (0.8.4)\n",
            "Requirement already satisfied: attrs>=22.2.0 in /usr/local/lib/python3.10/dist-packages (from jsonschema>=2.6->nbformat>=4.2.0->pycaret) (24.3.0)\n",
            "Requirement already satisfied: jsonschema-specifications>=2023.03.6 in /usr/local/lib/python3.10/dist-packages (from jsonschema>=2.6->nbformat>=4.2.0->pycaret) (2024.10.1)\n",
            "Requirement already satisfied: referencing>=0.28.4 in /usr/local/lib/python3.10/dist-packages (from jsonschema>=2.6->nbformat>=4.2.0->pycaret) (0.35.1)\n",
            "Requirement already satisfied: rpds-py>=0.7.1 in /usr/local/lib/python3.10/dist-packages (from jsonschema>=2.6->nbformat>=4.2.0->pycaret) (0.22.3)\n",
            "Requirement already satisfied: platformdirs>=2.5 in /usr/local/lib/python3.10/dist-packages (from jupyter-core!=5.0.*,>=4.12->nbformat>=4.2.0->pycaret) (4.3.6)\n",
            "Requirement already satisfied: ptyprocess>=0.5 in /usr/local/lib/python3.10/dist-packages (from pexpect>4.3->ipython>=5.5.0->pycaret) (0.7.0)\n",
            "Requirement already satisfied: wcwidth in /usr/local/lib/python3.10/dist-packages (from prompt-toolkit!=3.0.0,!=3.0.1,<3.1.0,>=2.0.0->ipython>=5.5.0->pycaret) (0.2.13)\n",
            "Requirement already satisfied: six>=1.5 in /usr/local/lib/python3.10/dist-packages (from python-dateutil>=2.7->matplotlib<3.8.0->pycaret) (1.17.0)\n",
            "Requirement already satisfied: notebook>=4.4.1 in /usr/local/lib/python3.10/dist-packages (from widgetsnbextension~=3.6.0->ipywidgets>=7.6.5->pycaret) (6.5.5)\n",
            "Requirement already satisfied: itsdangerous>=2.1.2 in /usr/local/lib/python3.10/dist-packages (from Flask<3.1,>=1.0.4->dash>=2.9.0->plotly-resampler>=0.8.3.1->pycaret) (2.2.0)\n",
            "Requirement already satisfied: click>=8.1.3 in /usr/local/lib/python3.10/dist-packages (from Flask<3.1,>=1.0.4->dash>=2.9.0->plotly-resampler>=0.8.3.1->pycaret) (8.1.7)\n",
            "Requirement already satisfied: blinker>=1.6.2 in /usr/local/lib/python3.10/dist-packages (from Flask<3.1,>=1.0.4->dash>=2.9.0->plotly-resampler>=0.8.3.1->pycaret) (1.9.0)\n",
            "Requirement already satisfied: pyzmq<25,>=17 in /usr/local/lib/python3.10/dist-packages (from notebook>=4.4.1->widgetsnbextension~=3.6.0->ipywidgets>=7.6.5->pycaret) (24.0.1)\n",
            "Requirement already satisfied: argon2-cffi in /usr/local/lib/python3.10/dist-packages (from notebook>=4.4.1->widgetsnbextension~=3.6.0->ipywidgets>=7.6.5->pycaret) (23.1.0)\n",
            "Requirement already satisfied: nbconvert>=5 in /usr/local/lib/python3.10/dist-packages (from notebook>=4.4.1->widgetsnbextension~=3.6.0->ipywidgets>=7.6.5->pycaret) (7.16.4)\n",
            "Requirement already satisfied: Send2Trash>=1.8.0 in /usr/local/lib/python3.10/dist-packages (from notebook>=4.4.1->widgetsnbextension~=3.6.0->ipywidgets>=7.6.5->pycaret) (1.8.3)\n",
            "Requirement already satisfied: terminado>=0.8.3 in /usr/local/lib/python3.10/dist-packages (from notebook>=4.4.1->widgetsnbextension~=3.6.0->ipywidgets>=7.6.5->pycaret) (0.18.1)\n",
            "Requirement already satisfied: prometheus-client in /usr/local/lib/python3.10/dist-packages (from notebook>=4.4.1->widgetsnbextension~=3.6.0->ipywidgets>=7.6.5->pycaret) (0.21.1)\n",
            "Requirement already satisfied: nbclassic>=0.4.7 in /usr/local/lib/python3.10/dist-packages (from notebook>=4.4.1->widgetsnbextension~=3.6.0->ipywidgets>=7.6.5->pycaret) (1.1.0)\n",
            "Requirement already satisfied: notebook-shim>=0.2.3 in /usr/local/lib/python3.10/dist-packages (from nbclassic>=0.4.7->notebook>=4.4.1->widgetsnbextension~=3.6.0->ipywidgets>=7.6.5->pycaret) (0.2.4)\n",
            "Requirement already satisfied: beautifulsoup4 in /usr/local/lib/python3.10/dist-packages (from nbconvert>=5->notebook>=4.4.1->widgetsnbextension~=3.6.0->ipywidgets>=7.6.5->pycaret) (4.12.3)\n",
            "Requirement already satisfied: bleach!=5.0.0 in /usr/local/lib/python3.10/dist-packages (from nbconvert>=5->notebook>=4.4.1->widgetsnbextension~=3.6.0->ipywidgets>=7.6.5->pycaret) (6.2.0)\n",
            "Requirement already satisfied: defusedxml in /usr/local/lib/python3.10/dist-packages (from nbconvert>=5->notebook>=4.4.1->widgetsnbextension~=3.6.0->ipywidgets>=7.6.5->pycaret) (0.7.1)\n",
            "Requirement already satisfied: jupyterlab-pygments in /usr/local/lib/python3.10/dist-packages (from nbconvert>=5->notebook>=4.4.1->widgetsnbextension~=3.6.0->ipywidgets>=7.6.5->pycaret) (0.3.0)\n",
            "Requirement already satisfied: mistune<4,>=2.0.3 in /usr/local/lib/python3.10/dist-packages (from nbconvert>=5->notebook>=4.4.1->widgetsnbextension~=3.6.0->ipywidgets>=7.6.5->pycaret) (3.0.2)\n",
            "Requirement already satisfied: nbclient>=0.5.0 in /usr/local/lib/python3.10/dist-packages (from nbconvert>=5->notebook>=4.4.1->widgetsnbextension~=3.6.0->ipywidgets>=7.6.5->pycaret) (0.10.1)\n",
            "Requirement already satisfied: pandocfilters>=1.4.1 in /usr/local/lib/python3.10/dist-packages (from nbconvert>=5->notebook>=4.4.1->widgetsnbextension~=3.6.0->ipywidgets>=7.6.5->pycaret) (1.5.1)\n",
            "Requirement already satisfied: tinycss2 in /usr/local/lib/python3.10/dist-packages (from nbconvert>=5->notebook>=4.4.1->widgetsnbextension~=3.6.0->ipywidgets>=7.6.5->pycaret) (1.4.0)\n",
            "Requirement already satisfied: argon2-cffi-bindings in /usr/local/lib/python3.10/dist-packages (from argon2-cffi->notebook>=4.4.1->widgetsnbextension~=3.6.0->ipywidgets>=7.6.5->pycaret) (21.2.0)\n",
            "Requirement already satisfied: webencodings in /usr/local/lib/python3.10/dist-packages (from bleach!=5.0.0->nbconvert>=5->notebook>=4.4.1->widgetsnbextension~=3.6.0->ipywidgets>=7.6.5->pycaret) (0.5.1)\n",
            "Requirement already satisfied: jupyter-server<3,>=1.8 in /usr/local/lib/python3.10/dist-packages (from notebook-shim>=0.2.3->nbclassic>=0.4.7->notebook>=4.4.1->widgetsnbextension~=3.6.0->ipywidgets>=7.6.5->pycaret) (1.24.0)\n",
            "Requirement already satisfied: cffi>=1.0.1 in /usr/local/lib/python3.10/dist-packages (from argon2-cffi-bindings->argon2-cffi->notebook>=4.4.1->widgetsnbextension~=3.6.0->ipywidgets>=7.6.5->pycaret) (1.17.1)\n",
            "Requirement already satisfied: soupsieve>1.2 in /usr/local/lib/python3.10/dist-packages (from beautifulsoup4->nbconvert>=5->notebook>=4.4.1->widgetsnbextension~=3.6.0->ipywidgets>=7.6.5->pycaret) (2.6)\n",
            "Requirement already satisfied: pycparser in /usr/local/lib/python3.10/dist-packages (from cffi>=1.0.1->argon2-cffi-bindings->argon2-cffi->notebook>=4.4.1->widgetsnbextension~=3.6.0->ipywidgets>=7.6.5->pycaret) (2.22)\n",
            "Requirement already satisfied: anyio<4,>=3.1.0 in /usr/local/lib/python3.10/dist-packages (from jupyter-server<3,>=1.8->notebook-shim>=0.2.3->nbclassic>=0.4.7->notebook>=4.4.1->widgetsnbextension~=3.6.0->ipywidgets>=7.6.5->pycaret) (3.7.1)\n",
            "Requirement already satisfied: websocket-client in /usr/local/lib/python3.10/dist-packages (from jupyter-server<3,>=1.8->notebook-shim>=0.2.3->nbclassic>=0.4.7->notebook>=4.4.1->widgetsnbextension~=3.6.0->ipywidgets>=7.6.5->pycaret) (1.8.0)\n",
            "Requirement already satisfied: sniffio>=1.1 in /usr/local/lib/python3.10/dist-packages (from anyio<4,>=3.1.0->jupyter-server<3,>=1.8->notebook-shim>=0.2.3->nbclassic>=0.4.7->notebook>=4.4.1->widgetsnbextension~=3.6.0->ipywidgets>=7.6.5->pycaret) (1.3.1)\n",
            "Requirement already satisfied: exceptiongroup in /usr/local/lib/python3.10/dist-packages (from anyio<4,>=3.1.0->jupyter-server<3,>=1.8->notebook-shim>=0.2.3->nbclassic>=0.4.7->notebook>=4.4.1->widgetsnbextension~=3.6.0->ipywidgets>=7.6.5->pycaret) (1.2.2)\n"
          ]
        }
      ],
      "source": [
        "# Install necessary libraries\n",
        "!pip install --upgrade pycaret"
      ]
    },
    {
      "cell_type": "code",
      "source": [
        "# Import required libraries\n",
        "from pycaret.regression import *\n",
        "import pandas as pd"
      ],
      "metadata": {
        "id": "7MxvGrAQ4A0Y"
      },
      "execution_count": 74,
      "outputs": []
    },
    {
      "cell_type": "code",
      "source": [
        "# Load the dataset\n",
        "data=pd.read_csv('Fuel_cell_performance_data-Full.csv')"
      ],
      "metadata": {
        "id": "9kgpnxag4BCj"
      },
      "execution_count": 83,
      "outputs": []
    },
    {
      "cell_type": "code",
      "source": [
        "# Specify the target column\n",
        "target_column = 'Target4'"
      ],
      "metadata": {
        "id": "m2_j60bg4BO3"
      },
      "execution_count": 84,
      "outputs": []
    },
    {
      "cell_type": "code",
      "source": [
        "# Drop other unnecessary target columns\n",
        "data = data.drop(columns=['Target1', 'Target2', 'Target3', 'Target5'])"
      ],
      "metadata": {
        "id": "LbEqiatk4BVU"
      },
      "execution_count": 85,
      "outputs": []
    },
    {
      "cell_type": "code",
      "source": [
        "# Verify the dataset after dropping columns\n",
        "print(\"Dataset Columns:\", data.columns)\n",
        "print(\"\\nFirst few rows of the dataset:\")\n",
        "print(data.head())  # Print the first few rows to ensure the data is correct"
      ],
      "metadata": {
        "colab": {
          "base_uri": "https://localhost:8080/"
        },
        "id": "X98HohYm4Bat",
        "outputId": "38db043e-ca19-45ac-838d-0c0bfe44264f"
      },
      "execution_count": 86,
      "outputs": [
        {
          "output_type": "stream",
          "name": "stdout",
          "text": [
            "Dataset Columns: Index(['F1', 'F2', 'F3', 'F4', 'F5', 'F6', 'F7', 'F8', 'F9', 'F10', 'F11',\n",
            "       'F12', 'F13', 'F14', 'F15', 'Target4'],\n",
            "      dtype='object')\n",
            "\n",
            "First few rows of the dataset:\n",
            "     F1    F2    F3     F4      F5    F6     F7     F8   F9   F10      F11  \\\n",
            "0  52.9  1.33  49.1  37.13  129.43  35.0  0.281  112.7  207  0.55   98.971   \n",
            "1  87.6  2.12  48.8  42.10  171.07  37.6  0.153  157.4  188  0.86  101.179   \n",
            "2  73.3  2.72  93.8  20.11  163.69  44.3  0.367  348.7  270  1.87   98.919   \n",
            "3  65.6  2.58  48.1  35.11   63.37  32.5  0.279  321.2  322  1.75  101.560   \n",
            "4  39.6  2.58  49.3  32.93   63.40  47.0  0.149  205.6  203  1.55   98.148   \n",
            "\n",
            "    F12   F13   F14   F15  Target4  \n",
            "0  2.87  1362  15.9   429     4.19  \n",
            "1  2.34  5130  26.1  1819     5.19  \n",
            "2  2.13  7811  16.7  1763     7.77  \n",
            "3  2.91  1641  32.1   203     8.40  \n",
            "4  1.93  7648  27.5   276     4.75  \n"
          ]
        }
      ]
    },
    {
      "cell_type": "code",
      "source": [
        "# Setup PyCaret regression environment\n",
        "reg_setup = setup(\n",
        "    data=data,\n",
        "    target=target_column,\n",
        "    session_id=42,  # Set session_id for reproducibility\n",
        "    train_size=0.7,  # Use a 70/30 split for training and testing\n",
        "    normalize=True,  # Normalize features (scaling)\n",
        "    transformation=True,  # Apply transformations to improve model performance\n",
        ")"
      ],
      "metadata": {
        "colab": {
          "base_uri": "https://localhost:8080/",
          "height": 770
        },
        "id": "PE6CgOUS4Bi6",
        "outputId": "ceefdf70-ac88-4776-f272-7149e5eaa407"
      },
      "execution_count": 87,
      "outputs": [
        {
          "output_type": "display_data",
          "data": {
            "text/plain": [
              "<pandas.io.formats.style.Styler at 0x7f81e16ce320>"
            ],
            "text/html": [
              "<style type=\"text/css\">\n",
              "#T_4ce26_row8_col1, #T_4ce26_row12_col1, #T_4ce26_row14_col1 {\n",
              "  background-color: lightgreen;\n",
              "}\n",
              "</style>\n",
              "<table id=\"T_4ce26\" class=\"dataframe\">\n",
              "  <thead>\n",
              "    <tr>\n",
              "      <th class=\"blank level0\" >&nbsp;</th>\n",
              "      <th id=\"T_4ce26_level0_col0\" class=\"col_heading level0 col0\" >Description</th>\n",
              "      <th id=\"T_4ce26_level0_col1\" class=\"col_heading level0 col1\" >Value</th>\n",
              "    </tr>\n",
              "  </thead>\n",
              "  <tbody>\n",
              "    <tr>\n",
              "      <th id=\"T_4ce26_level0_row0\" class=\"row_heading level0 row0\" >0</th>\n",
              "      <td id=\"T_4ce26_row0_col0\" class=\"data row0 col0\" >Session id</td>\n",
              "      <td id=\"T_4ce26_row0_col1\" class=\"data row0 col1\" >42</td>\n",
              "    </tr>\n",
              "    <tr>\n",
              "      <th id=\"T_4ce26_level0_row1\" class=\"row_heading level0 row1\" >1</th>\n",
              "      <td id=\"T_4ce26_row1_col0\" class=\"data row1 col0\" >Target</td>\n",
              "      <td id=\"T_4ce26_row1_col1\" class=\"data row1 col1\" >Target4</td>\n",
              "    </tr>\n",
              "    <tr>\n",
              "      <th id=\"T_4ce26_level0_row2\" class=\"row_heading level0 row2\" >2</th>\n",
              "      <td id=\"T_4ce26_row2_col0\" class=\"data row2 col0\" >Target type</td>\n",
              "      <td id=\"T_4ce26_row2_col1\" class=\"data row2 col1\" >Regression</td>\n",
              "    </tr>\n",
              "    <tr>\n",
              "      <th id=\"T_4ce26_level0_row3\" class=\"row_heading level0 row3\" >3</th>\n",
              "      <td id=\"T_4ce26_row3_col0\" class=\"data row3 col0\" >Original data shape</td>\n",
              "      <td id=\"T_4ce26_row3_col1\" class=\"data row3 col1\" >(1000, 16)</td>\n",
              "    </tr>\n",
              "    <tr>\n",
              "      <th id=\"T_4ce26_level0_row4\" class=\"row_heading level0 row4\" >4</th>\n",
              "      <td id=\"T_4ce26_row4_col0\" class=\"data row4 col0\" >Transformed data shape</td>\n",
              "      <td id=\"T_4ce26_row4_col1\" class=\"data row4 col1\" >(1000, 16)</td>\n",
              "    </tr>\n",
              "    <tr>\n",
              "      <th id=\"T_4ce26_level0_row5\" class=\"row_heading level0 row5\" >5</th>\n",
              "      <td id=\"T_4ce26_row5_col0\" class=\"data row5 col0\" >Transformed train set shape</td>\n",
              "      <td id=\"T_4ce26_row5_col1\" class=\"data row5 col1\" >(700, 16)</td>\n",
              "    </tr>\n",
              "    <tr>\n",
              "      <th id=\"T_4ce26_level0_row6\" class=\"row_heading level0 row6\" >6</th>\n",
              "      <td id=\"T_4ce26_row6_col0\" class=\"data row6 col0\" >Transformed test set shape</td>\n",
              "      <td id=\"T_4ce26_row6_col1\" class=\"data row6 col1\" >(300, 16)</td>\n",
              "    </tr>\n",
              "    <tr>\n",
              "      <th id=\"T_4ce26_level0_row7\" class=\"row_heading level0 row7\" >7</th>\n",
              "      <td id=\"T_4ce26_row7_col0\" class=\"data row7 col0\" >Numeric features</td>\n",
              "      <td id=\"T_4ce26_row7_col1\" class=\"data row7 col1\" >15</td>\n",
              "    </tr>\n",
              "    <tr>\n",
              "      <th id=\"T_4ce26_level0_row8\" class=\"row_heading level0 row8\" >8</th>\n",
              "      <td id=\"T_4ce26_row8_col0\" class=\"data row8 col0\" >Preprocess</td>\n",
              "      <td id=\"T_4ce26_row8_col1\" class=\"data row8 col1\" >True</td>\n",
              "    </tr>\n",
              "    <tr>\n",
              "      <th id=\"T_4ce26_level0_row9\" class=\"row_heading level0 row9\" >9</th>\n",
              "      <td id=\"T_4ce26_row9_col0\" class=\"data row9 col0\" >Imputation type</td>\n",
              "      <td id=\"T_4ce26_row9_col1\" class=\"data row9 col1\" >simple</td>\n",
              "    </tr>\n",
              "    <tr>\n",
              "      <th id=\"T_4ce26_level0_row10\" class=\"row_heading level0 row10\" >10</th>\n",
              "      <td id=\"T_4ce26_row10_col0\" class=\"data row10 col0\" >Numeric imputation</td>\n",
              "      <td id=\"T_4ce26_row10_col1\" class=\"data row10 col1\" >mean</td>\n",
              "    </tr>\n",
              "    <tr>\n",
              "      <th id=\"T_4ce26_level0_row11\" class=\"row_heading level0 row11\" >11</th>\n",
              "      <td id=\"T_4ce26_row11_col0\" class=\"data row11 col0\" >Categorical imputation</td>\n",
              "      <td id=\"T_4ce26_row11_col1\" class=\"data row11 col1\" >mode</td>\n",
              "    </tr>\n",
              "    <tr>\n",
              "      <th id=\"T_4ce26_level0_row12\" class=\"row_heading level0 row12\" >12</th>\n",
              "      <td id=\"T_4ce26_row12_col0\" class=\"data row12 col0\" >Transformation</td>\n",
              "      <td id=\"T_4ce26_row12_col1\" class=\"data row12 col1\" >True</td>\n",
              "    </tr>\n",
              "    <tr>\n",
              "      <th id=\"T_4ce26_level0_row13\" class=\"row_heading level0 row13\" >13</th>\n",
              "      <td id=\"T_4ce26_row13_col0\" class=\"data row13 col0\" >Transformation method</td>\n",
              "      <td id=\"T_4ce26_row13_col1\" class=\"data row13 col1\" >yeo-johnson</td>\n",
              "    </tr>\n",
              "    <tr>\n",
              "      <th id=\"T_4ce26_level0_row14\" class=\"row_heading level0 row14\" >14</th>\n",
              "      <td id=\"T_4ce26_row14_col0\" class=\"data row14 col0\" >Normalize</td>\n",
              "      <td id=\"T_4ce26_row14_col1\" class=\"data row14 col1\" >True</td>\n",
              "    </tr>\n",
              "    <tr>\n",
              "      <th id=\"T_4ce26_level0_row15\" class=\"row_heading level0 row15\" >15</th>\n",
              "      <td id=\"T_4ce26_row15_col0\" class=\"data row15 col0\" >Normalize method</td>\n",
              "      <td id=\"T_4ce26_row15_col1\" class=\"data row15 col1\" >zscore</td>\n",
              "    </tr>\n",
              "    <tr>\n",
              "      <th id=\"T_4ce26_level0_row16\" class=\"row_heading level0 row16\" >16</th>\n",
              "      <td id=\"T_4ce26_row16_col0\" class=\"data row16 col0\" >Fold Generator</td>\n",
              "      <td id=\"T_4ce26_row16_col1\" class=\"data row16 col1\" >KFold</td>\n",
              "    </tr>\n",
              "    <tr>\n",
              "      <th id=\"T_4ce26_level0_row17\" class=\"row_heading level0 row17\" >17</th>\n",
              "      <td id=\"T_4ce26_row17_col0\" class=\"data row17 col0\" >Fold Number</td>\n",
              "      <td id=\"T_4ce26_row17_col1\" class=\"data row17 col1\" >10</td>\n",
              "    </tr>\n",
              "    <tr>\n",
              "      <th id=\"T_4ce26_level0_row18\" class=\"row_heading level0 row18\" >18</th>\n",
              "      <td id=\"T_4ce26_row18_col0\" class=\"data row18 col0\" >CPU Jobs</td>\n",
              "      <td id=\"T_4ce26_row18_col1\" class=\"data row18 col1\" >-1</td>\n",
              "    </tr>\n",
              "    <tr>\n",
              "      <th id=\"T_4ce26_level0_row19\" class=\"row_heading level0 row19\" >19</th>\n",
              "      <td id=\"T_4ce26_row19_col0\" class=\"data row19 col0\" >Use GPU</td>\n",
              "      <td id=\"T_4ce26_row19_col1\" class=\"data row19 col1\" >False</td>\n",
              "    </tr>\n",
              "    <tr>\n",
              "      <th id=\"T_4ce26_level0_row20\" class=\"row_heading level0 row20\" >20</th>\n",
              "      <td id=\"T_4ce26_row20_col0\" class=\"data row20 col0\" >Log Experiment</td>\n",
              "      <td id=\"T_4ce26_row20_col1\" class=\"data row20 col1\" >False</td>\n",
              "    </tr>\n",
              "    <tr>\n",
              "      <th id=\"T_4ce26_level0_row21\" class=\"row_heading level0 row21\" >21</th>\n",
              "      <td id=\"T_4ce26_row21_col0\" class=\"data row21 col0\" >Experiment Name</td>\n",
              "      <td id=\"T_4ce26_row21_col1\" class=\"data row21 col1\" >reg-default-name</td>\n",
              "    </tr>\n",
              "    <tr>\n",
              "      <th id=\"T_4ce26_level0_row22\" class=\"row_heading level0 row22\" >22</th>\n",
              "      <td id=\"T_4ce26_row22_col0\" class=\"data row22 col0\" >USI</td>\n",
              "      <td id=\"T_4ce26_row22_col1\" class=\"data row22 col1\" >6f32</td>\n",
              "    </tr>\n",
              "  </tbody>\n",
              "</table>\n"
            ]
          },
          "metadata": {}
        }
      ]
    },
    {
      "cell_type": "code",
      "source": [
        "# Compare all models and select the best one\n",
        "best_model = compare_models()"
      ],
      "metadata": {
        "colab": {
          "base_uri": "https://localhost:8080/",
          "height": 645,
          "referenced_widgets": [
            "dd0d54a62c45498ea56790151bec30a5",
            "144a573b865243cb8b4116841774db9e",
            "19ebb24a29bd4d3abd873b7493d00bf8",
            "79f19929450c475f8cf7f5e4ce38b25f",
            "ca3e0e747f414c289c765407b1374b5b",
            "3a008eafd2854598966fd3f36cfa2b32",
            "c0ee25f996c04fa0967654edca7d8966",
            "55a1a70ce8e04ae49df3fd66e83fcf05",
            "5b448b7bbcf6416ea8f6ea750723dcef",
            "d64095f6286a4cadacba52d33c98b3ad",
            "3cab9498e3dd446b9b4dbfab9d1ea195"
          ]
        },
        "id": "OnR_NLz64B1Q",
        "outputId": "23d14a00-419b-4489-b60b-a1c01412fc12"
      },
      "execution_count": 88,
      "outputs": [
        {
          "output_type": "display_data",
          "data": {
            "text/plain": [
              "<IPython.core.display.HTML object>"
            ],
            "text/html": []
          },
          "metadata": {}
        },
        {
          "output_type": "display_data",
          "data": {
            "text/plain": [
              "<pandas.io.formats.style.Styler at 0x7f81e86c2680>"
            ],
            "text/html": [
              "<style type=\"text/css\">\n",
              "#T_74718 th {\n",
              "  text-align: left;\n",
              "}\n",
              "#T_74718_row0_col0, #T_74718_row1_col0, #T_74718_row1_col1, #T_74718_row1_col2, #T_74718_row1_col3, #T_74718_row1_col4, #T_74718_row1_col5, #T_74718_row1_col6, #T_74718_row2_col0, #T_74718_row2_col1, #T_74718_row2_col2, #T_74718_row2_col3, #T_74718_row2_col4, #T_74718_row2_col5, #T_74718_row2_col6, #T_74718_row3_col0, #T_74718_row3_col1, #T_74718_row3_col2, #T_74718_row3_col3, #T_74718_row3_col4, #T_74718_row3_col5, #T_74718_row3_col6, #T_74718_row4_col0, #T_74718_row4_col1, #T_74718_row4_col2, #T_74718_row4_col3, #T_74718_row4_col4, #T_74718_row4_col5, #T_74718_row4_col6, #T_74718_row5_col0, #T_74718_row5_col1, #T_74718_row5_col2, #T_74718_row5_col3, #T_74718_row5_col4, #T_74718_row5_col5, #T_74718_row5_col6, #T_74718_row6_col0, #T_74718_row6_col1, #T_74718_row6_col2, #T_74718_row6_col3, #T_74718_row6_col4, #T_74718_row6_col5, #T_74718_row6_col6, #T_74718_row7_col0, #T_74718_row7_col1, #T_74718_row7_col2, #T_74718_row7_col3, #T_74718_row7_col4, #T_74718_row7_col5, #T_74718_row7_col6, #T_74718_row8_col0, #T_74718_row8_col1, #T_74718_row8_col2, #T_74718_row8_col3, #T_74718_row8_col4, #T_74718_row8_col5, #T_74718_row8_col6, #T_74718_row9_col0, #T_74718_row9_col1, #T_74718_row9_col2, #T_74718_row9_col3, #T_74718_row9_col4, #T_74718_row9_col5, #T_74718_row9_col6, #T_74718_row10_col0, #T_74718_row10_col1, #T_74718_row10_col2, #T_74718_row10_col3, #T_74718_row10_col4, #T_74718_row10_col5, #T_74718_row11_col0, #T_74718_row11_col1, #T_74718_row11_col2, #T_74718_row11_col3, #T_74718_row11_col4, #T_74718_row11_col5, #T_74718_row11_col6, #T_74718_row12_col0, #T_74718_row12_col1, #T_74718_row12_col2, #T_74718_row12_col3, #T_74718_row12_col4, #T_74718_row12_col5, #T_74718_row12_col6, #T_74718_row13_col0, #T_74718_row13_col1, #T_74718_row13_col2, #T_74718_row13_col3, #T_74718_row13_col4, #T_74718_row13_col5, #T_74718_row13_col6, #T_74718_row14_col0, #T_74718_row14_col1, #T_74718_row14_col2, #T_74718_row14_col3, #T_74718_row14_col4, #T_74718_row14_col5, #T_74718_row14_col6, #T_74718_row15_col0, #T_74718_row15_col1, #T_74718_row15_col2, #T_74718_row15_col3, #T_74718_row15_col4, #T_74718_row15_col5, #T_74718_row15_col6, #T_74718_row16_col0, #T_74718_row16_col1, #T_74718_row16_col2, #T_74718_row16_col3, #T_74718_row16_col4, #T_74718_row16_col5, #T_74718_row16_col6, #T_74718_row17_col0, #T_74718_row17_col1, #T_74718_row17_col2, #T_74718_row17_col3, #T_74718_row17_col4, #T_74718_row17_col5, #T_74718_row17_col6, #T_74718_row18_col0, #T_74718_row18_col1, #T_74718_row18_col2, #T_74718_row18_col3, #T_74718_row18_col4, #T_74718_row18_col5, #T_74718_row18_col6 {\n",
              "  text-align: left;\n",
              "}\n",
              "#T_74718_row0_col1, #T_74718_row0_col2, #T_74718_row0_col3, #T_74718_row0_col4, #T_74718_row0_col5, #T_74718_row0_col6, #T_74718_row10_col6 {\n",
              "  text-align: left;\n",
              "  background-color: yellow;\n",
              "}\n",
              "#T_74718_row0_col7, #T_74718_row1_col7, #T_74718_row2_col7, #T_74718_row4_col7, #T_74718_row5_col7, #T_74718_row6_col7, #T_74718_row7_col7, #T_74718_row8_col7, #T_74718_row9_col7, #T_74718_row10_col7, #T_74718_row11_col7, #T_74718_row12_col7, #T_74718_row13_col7, #T_74718_row14_col7, #T_74718_row15_col7, #T_74718_row16_col7, #T_74718_row17_col7, #T_74718_row18_col7 {\n",
              "  text-align: left;\n",
              "  background-color: lightgrey;\n",
              "}\n",
              "#T_74718_row3_col7 {\n",
              "  text-align: left;\n",
              "  background-color: yellow;\n",
              "  background-color: lightgrey;\n",
              "}\n",
              "</style>\n",
              "<table id=\"T_74718\" class=\"dataframe\">\n",
              "  <thead>\n",
              "    <tr>\n",
              "      <th class=\"blank level0\" >&nbsp;</th>\n",
              "      <th id=\"T_74718_level0_col0\" class=\"col_heading level0 col0\" >Model</th>\n",
              "      <th id=\"T_74718_level0_col1\" class=\"col_heading level0 col1\" >MAE</th>\n",
              "      <th id=\"T_74718_level0_col2\" class=\"col_heading level0 col2\" >MSE</th>\n",
              "      <th id=\"T_74718_level0_col3\" class=\"col_heading level0 col3\" >RMSE</th>\n",
              "      <th id=\"T_74718_level0_col4\" class=\"col_heading level0 col4\" >R2</th>\n",
              "      <th id=\"T_74718_level0_col5\" class=\"col_heading level0 col5\" >RMSLE</th>\n",
              "      <th id=\"T_74718_level0_col6\" class=\"col_heading level0 col6\" >MAPE</th>\n",
              "      <th id=\"T_74718_level0_col7\" class=\"col_heading level0 col7\" >TT (Sec)</th>\n",
              "    </tr>\n",
              "  </thead>\n",
              "  <tbody>\n",
              "    <tr>\n",
              "      <th id=\"T_74718_level0_row0\" class=\"row_heading level0 row0\" >omp</th>\n",
              "      <td id=\"T_74718_row0_col0\" class=\"data row0 col0\" >Orthogonal Matching Pursuit</td>\n",
              "      <td id=\"T_74718_row0_col1\" class=\"data row0 col1\" >2.0168</td>\n",
              "      <td id=\"T_74718_row0_col2\" class=\"data row0 col2\" >5.4339</td>\n",
              "      <td id=\"T_74718_row0_col3\" class=\"data row0 col3\" >2.3273</td>\n",
              "      <td id=\"T_74718_row0_col4\" class=\"data row0 col4\" >-0.0306</td>\n",
              "      <td id=\"T_74718_row0_col5\" class=\"data row0 col5\" >0.3700</td>\n",
              "      <td id=\"T_74718_row0_col6\" class=\"data row0 col6\" >0.4501</td>\n",
              "      <td id=\"T_74718_row0_col7\" class=\"data row0 col7\" >0.1270</td>\n",
              "    </tr>\n",
              "    <tr>\n",
              "      <th id=\"T_74718_level0_row1\" class=\"row_heading level0 row1\" >llar</th>\n",
              "      <td id=\"T_74718_row1_col0\" class=\"data row1 col0\" >Lasso Least Angle Regression</td>\n",
              "      <td id=\"T_74718_row1_col1\" class=\"data row1 col1\" >2.0177</td>\n",
              "      <td id=\"T_74718_row1_col2\" class=\"data row1 col2\" >5.4477</td>\n",
              "      <td id=\"T_74718_row1_col3\" class=\"data row1 col3\" >2.3310</td>\n",
              "      <td id=\"T_74718_row1_col4\" class=\"data row1 col4\" >-0.0344</td>\n",
              "      <td id=\"T_74718_row1_col5\" class=\"data row1 col5\" >0.3704</td>\n",
              "      <td id=\"T_74718_row1_col6\" class=\"data row1 col6\" >0.4504</td>\n",
              "      <td id=\"T_74718_row1_col7\" class=\"data row1 col7\" >0.1320</td>\n",
              "    </tr>\n",
              "    <tr>\n",
              "      <th id=\"T_74718_level0_row2\" class=\"row_heading level0 row2\" >lasso</th>\n",
              "      <td id=\"T_74718_row2_col0\" class=\"data row2 col0\" >Lasso Regression</td>\n",
              "      <td id=\"T_74718_row2_col1\" class=\"data row2 col1\" >2.0177</td>\n",
              "      <td id=\"T_74718_row2_col2\" class=\"data row2 col2\" >5.4477</td>\n",
              "      <td id=\"T_74718_row2_col3\" class=\"data row2 col3\" >2.3310</td>\n",
              "      <td id=\"T_74718_row2_col4\" class=\"data row2 col4\" >-0.0344</td>\n",
              "      <td id=\"T_74718_row2_col5\" class=\"data row2 col5\" >0.3704</td>\n",
              "      <td id=\"T_74718_row2_col6\" class=\"data row2 col6\" >0.4504</td>\n",
              "      <td id=\"T_74718_row2_col7\" class=\"data row2 col7\" >0.0790</td>\n",
              "    </tr>\n",
              "    <tr>\n",
              "      <th id=\"T_74718_level0_row3\" class=\"row_heading level0 row3\" >dummy</th>\n",
              "      <td id=\"T_74718_row3_col0\" class=\"data row3 col0\" >Dummy Regressor</td>\n",
              "      <td id=\"T_74718_row3_col1\" class=\"data row3 col1\" >2.0177</td>\n",
              "      <td id=\"T_74718_row3_col2\" class=\"data row3 col2\" >5.4477</td>\n",
              "      <td id=\"T_74718_row3_col3\" class=\"data row3 col3\" >2.3310</td>\n",
              "      <td id=\"T_74718_row3_col4\" class=\"data row3 col4\" >-0.0344</td>\n",
              "      <td id=\"T_74718_row3_col5\" class=\"data row3 col5\" >0.3704</td>\n",
              "      <td id=\"T_74718_row3_col6\" class=\"data row3 col6\" >0.4504</td>\n",
              "      <td id=\"T_74718_row3_col7\" class=\"data row3 col7\" >0.0740</td>\n",
              "    </tr>\n",
              "    <tr>\n",
              "      <th id=\"T_74718_level0_row4\" class=\"row_heading level0 row4\" >en</th>\n",
              "      <td id=\"T_74718_row4_col0\" class=\"data row4 col0\" >Elastic Net</td>\n",
              "      <td id=\"T_74718_row4_col1\" class=\"data row4 col1\" >2.0177</td>\n",
              "      <td id=\"T_74718_row4_col2\" class=\"data row4 col2\" >5.4477</td>\n",
              "      <td id=\"T_74718_row4_col3\" class=\"data row4 col3\" >2.3310</td>\n",
              "      <td id=\"T_74718_row4_col4\" class=\"data row4 col4\" >-0.0344</td>\n",
              "      <td id=\"T_74718_row4_col5\" class=\"data row4 col5\" >0.3704</td>\n",
              "      <td id=\"T_74718_row4_col6\" class=\"data row4 col6\" >0.4504</td>\n",
              "      <td id=\"T_74718_row4_col7\" class=\"data row4 col7\" >0.0750</td>\n",
              "    </tr>\n",
              "    <tr>\n",
              "      <th id=\"T_74718_level0_row5\" class=\"row_heading level0 row5\" >br</th>\n",
              "      <td id=\"T_74718_row5_col0\" class=\"data row5 col0\" >Bayesian Ridge</td>\n",
              "      <td id=\"T_74718_row5_col1\" class=\"data row5 col1\" >2.0214</td>\n",
              "      <td id=\"T_74718_row5_col2\" class=\"data row5 col2\" >5.4701</td>\n",
              "      <td id=\"T_74718_row5_col3\" class=\"data row5 col3\" >2.3356</td>\n",
              "      <td id=\"T_74718_row5_col4\" class=\"data row5 col4\" >-0.0386</td>\n",
              "      <td id=\"T_74718_row5_col5\" class=\"data row5 col5\" >0.3710</td>\n",
              "      <td id=\"T_74718_row5_col6\" class=\"data row5 col6\" >0.4510</td>\n",
              "      <td id=\"T_74718_row5_col7\" class=\"data row5 col7\" >0.1310</td>\n",
              "    </tr>\n",
              "    <tr>\n",
              "      <th id=\"T_74718_level0_row6\" class=\"row_heading level0 row6\" >ada</th>\n",
              "      <td id=\"T_74718_row6_col0\" class=\"data row6 col0\" >AdaBoost Regressor</td>\n",
              "      <td id=\"T_74718_row6_col1\" class=\"data row6 col1\" >2.0262</td>\n",
              "      <td id=\"T_74718_row6_col2\" class=\"data row6 col2\" >5.5351</td>\n",
              "      <td id=\"T_74718_row6_col3\" class=\"data row6 col3\" >2.3484</td>\n",
              "      <td id=\"T_74718_row6_col4\" class=\"data row6 col4\" >-0.0490</td>\n",
              "      <td id=\"T_74718_row6_col5\" class=\"data row6 col5\" >0.3725</td>\n",
              "      <td id=\"T_74718_row6_col6\" class=\"data row6 col6\" >0.4504</td>\n",
              "      <td id=\"T_74718_row6_col7\" class=\"data row6 col7\" >0.1550</td>\n",
              "    </tr>\n",
              "    <tr>\n",
              "      <th id=\"T_74718_level0_row7\" class=\"row_heading level0 row7\" >ridge</th>\n",
              "      <td id=\"T_74718_row7_col0\" class=\"data row7 col0\" >Ridge Regression</td>\n",
              "      <td id=\"T_74718_row7_col1\" class=\"data row7 col1\" >2.0239</td>\n",
              "      <td id=\"T_74718_row7_col2\" class=\"data row7 col2\" >5.5356</td>\n",
              "      <td id=\"T_74718_row7_col3\" class=\"data row7 col3\" >2.3490</td>\n",
              "      <td id=\"T_74718_row7_col4\" class=\"data row7 col4\" >-0.0504</td>\n",
              "      <td id=\"T_74718_row7_col5\" class=\"data row7 col5\" >0.3725</td>\n",
              "      <td id=\"T_74718_row7_col6\" class=\"data row7 col6\" >0.4502</td>\n",
              "      <td id=\"T_74718_row7_col7\" class=\"data row7 col7\" >0.0780</td>\n",
              "    </tr>\n",
              "    <tr>\n",
              "      <th id=\"T_74718_level0_row8\" class=\"row_heading level0 row8\" >lar</th>\n",
              "      <td id=\"T_74718_row8_col0\" class=\"data row8 col0\" >Least Angle Regression</td>\n",
              "      <td id=\"T_74718_row8_col1\" class=\"data row8 col1\" >2.0239</td>\n",
              "      <td id=\"T_74718_row8_col2\" class=\"data row8 col2\" >5.5360</td>\n",
              "      <td id=\"T_74718_row8_col3\" class=\"data row8 col3\" >2.3491</td>\n",
              "      <td id=\"T_74718_row8_col4\" class=\"data row8 col4\" >-0.0505</td>\n",
              "      <td id=\"T_74718_row8_col5\" class=\"data row8 col5\" >0.3725</td>\n",
              "      <td id=\"T_74718_row8_col6\" class=\"data row8 col6\" >0.4502</td>\n",
              "      <td id=\"T_74718_row8_col7\" class=\"data row8 col7\" >0.0770</td>\n",
              "    </tr>\n",
              "    <tr>\n",
              "      <th id=\"T_74718_level0_row9\" class=\"row_heading level0 row9\" >lr</th>\n",
              "      <td id=\"T_74718_row9_col0\" class=\"data row9 col0\" >Linear Regression</td>\n",
              "      <td id=\"T_74718_row9_col1\" class=\"data row9 col1\" >2.0239</td>\n",
              "      <td id=\"T_74718_row9_col2\" class=\"data row9 col2\" >5.5360</td>\n",
              "      <td id=\"T_74718_row9_col3\" class=\"data row9 col3\" >2.3491</td>\n",
              "      <td id=\"T_74718_row9_col4\" class=\"data row9 col4\" >-0.0505</td>\n",
              "      <td id=\"T_74718_row9_col5\" class=\"data row9 col5\" >0.3725</td>\n",
              "      <td id=\"T_74718_row9_col6\" class=\"data row9 col6\" >0.4502</td>\n",
              "      <td id=\"T_74718_row9_col7\" class=\"data row9 col7\" >0.5120</td>\n",
              "    </tr>\n",
              "    <tr>\n",
              "      <th id=\"T_74718_level0_row10\" class=\"row_heading level0 row10\" >huber</th>\n",
              "      <td id=\"T_74718_row10_col0\" class=\"data row10 col0\" >Huber Regressor</td>\n",
              "      <td id=\"T_74718_row10_col1\" class=\"data row10 col1\" >2.0353</td>\n",
              "      <td id=\"T_74718_row10_col2\" class=\"data row10 col2\" >5.6509</td>\n",
              "      <td id=\"T_74718_row10_col3\" class=\"data row10 col3\" >2.3724</td>\n",
              "      <td id=\"T_74718_row10_col4\" class=\"data row10 col4\" >-0.0720</td>\n",
              "      <td id=\"T_74718_row10_col5\" class=\"data row10 col5\" >0.3752</td>\n",
              "      <td id=\"T_74718_row10_col6\" class=\"data row10 col6\" >0.4501</td>\n",
              "      <td id=\"T_74718_row10_col7\" class=\"data row10 col7\" >0.0800</td>\n",
              "    </tr>\n",
              "    <tr>\n",
              "      <th id=\"T_74718_level0_row11\" class=\"row_heading level0 row11\" >et</th>\n",
              "      <td id=\"T_74718_row11_col0\" class=\"data row11 col0\" >Extra Trees Regressor</td>\n",
              "      <td id=\"T_74718_row11_col1\" class=\"data row11 col1\" >2.0517</td>\n",
              "      <td id=\"T_74718_row11_col2\" class=\"data row11 col2\" >5.7025</td>\n",
              "      <td id=\"T_74718_row11_col3\" class=\"data row11 col3\" >2.3834</td>\n",
              "      <td id=\"T_74718_row11_col4\" class=\"data row11 col4\" >-0.0807</td>\n",
              "      <td id=\"T_74718_row11_col5\" class=\"data row11 col5\" >0.3775</td>\n",
              "      <td id=\"T_74718_row11_col6\" class=\"data row11 col6\" >0.4568</td>\n",
              "      <td id=\"T_74718_row11_col7\" class=\"data row11 col7\" >0.4780</td>\n",
              "    </tr>\n",
              "    <tr>\n",
              "      <th id=\"T_74718_level0_row12\" class=\"row_heading level0 row12\" >rf</th>\n",
              "      <td id=\"T_74718_row12_col0\" class=\"data row12 col0\" >Random Forest Regressor</td>\n",
              "      <td id=\"T_74718_row12_col1\" class=\"data row12 col1\" >2.0662</td>\n",
              "      <td id=\"T_74718_row12_col2\" class=\"data row12 col2\" >5.8066</td>\n",
              "      <td id=\"T_74718_row12_col3\" class=\"data row12 col3\" >2.4057</td>\n",
              "      <td id=\"T_74718_row12_col4\" class=\"data row12 col4\" >-0.1018</td>\n",
              "      <td id=\"T_74718_row12_col5\" class=\"data row12 col5\" >0.3811</td>\n",
              "      <td id=\"T_74718_row12_col6\" class=\"data row12 col6\" >0.4617</td>\n",
              "      <td id=\"T_74718_row12_col7\" class=\"data row12 col7\" >0.9590</td>\n",
              "    </tr>\n",
              "    <tr>\n",
              "      <th id=\"T_74718_level0_row13\" class=\"row_heading level0 row13\" >gbr</th>\n",
              "      <td id=\"T_74718_row13_col0\" class=\"data row13 col0\" >Gradient Boosting Regressor</td>\n",
              "      <td id=\"T_74718_row13_col1\" class=\"data row13 col1\" >2.0797</td>\n",
              "      <td id=\"T_74718_row13_col2\" class=\"data row13 col2\" >5.9800</td>\n",
              "      <td id=\"T_74718_row13_col3\" class=\"data row13 col3\" >2.4414</td>\n",
              "      <td id=\"T_74718_row13_col4\" class=\"data row13 col4\" >-0.1380</td>\n",
              "      <td id=\"T_74718_row13_col5\" class=\"data row13 col5\" >0.3845</td>\n",
              "      <td id=\"T_74718_row13_col6\" class=\"data row13 col6\" >0.4581</td>\n",
              "      <td id=\"T_74718_row13_col7\" class=\"data row13 col7\" >0.3650</td>\n",
              "    </tr>\n",
              "    <tr>\n",
              "      <th id=\"T_74718_level0_row14\" class=\"row_heading level0 row14\" >knn</th>\n",
              "      <td id=\"T_74718_row14_col0\" class=\"data row14 col0\" >K Neighbors Regressor</td>\n",
              "      <td id=\"T_74718_row14_col1\" class=\"data row14 col1\" >2.1500</td>\n",
              "      <td id=\"T_74718_row14_col2\" class=\"data row14 col2\" >6.4706</td>\n",
              "      <td id=\"T_74718_row14_col3\" class=\"data row14 col3\" >2.5383</td>\n",
              "      <td id=\"T_74718_row14_col4\" class=\"data row14 col4\" >-0.2280</td>\n",
              "      <td id=\"T_74718_row14_col5\" class=\"data row14 col5\" >0.3979</td>\n",
              "      <td id=\"T_74718_row14_col6\" class=\"data row14 col6\" >0.4748</td>\n",
              "      <td id=\"T_74718_row14_col7\" class=\"data row14 col7\" >0.0850</td>\n",
              "    </tr>\n",
              "    <tr>\n",
              "      <th id=\"T_74718_level0_row15\" class=\"row_heading level0 row15\" >lightgbm</th>\n",
              "      <td id=\"T_74718_row15_col0\" class=\"data row15 col0\" >Light Gradient Boosting Machine</td>\n",
              "      <td id=\"T_74718_row15_col1\" class=\"data row15 col1\" >2.1897</td>\n",
              "      <td id=\"T_74718_row15_col2\" class=\"data row15 col2\" >6.6350</td>\n",
              "      <td id=\"T_74718_row15_col3\" class=\"data row15 col3\" >2.5711</td>\n",
              "      <td id=\"T_74718_row15_col4\" class=\"data row15 col4\" >-0.2627</td>\n",
              "      <td id=\"T_74718_row15_col5\" class=\"data row15 col5\" >0.4023</td>\n",
              "      <td id=\"T_74718_row15_col6\" class=\"data row15 col6\" >0.4793</td>\n",
              "      <td id=\"T_74718_row15_col7\" class=\"data row15 col7\" >0.4160</td>\n",
              "    </tr>\n",
              "    <tr>\n",
              "      <th id=\"T_74718_level0_row16\" class=\"row_heading level0 row16\" >xgboost</th>\n",
              "      <td id=\"T_74718_row16_col0\" class=\"data row16 col0\" >Extreme Gradient Boosting</td>\n",
              "      <td id=\"T_74718_row16_col1\" class=\"data row16 col1\" >2.1852</td>\n",
              "      <td id=\"T_74718_row16_col2\" class=\"data row16 col2\" >6.8044</td>\n",
              "      <td id=\"T_74718_row16_col3\" class=\"data row16 col3\" >2.6019</td>\n",
              "      <td id=\"T_74718_row16_col4\" class=\"data row16 col4\" >-0.2935</td>\n",
              "      <td id=\"T_74718_row16_col5\" class=\"data row16 col5\" >0.4063</td>\n",
              "      <td id=\"T_74718_row16_col6\" class=\"data row16 col6\" >0.4792</td>\n",
              "      <td id=\"T_74718_row16_col7\" class=\"data row16 col7\" >0.6960</td>\n",
              "    </tr>\n",
              "    <tr>\n",
              "      <th id=\"T_74718_level0_row17\" class=\"row_heading level0 row17\" >dt</th>\n",
              "      <td id=\"T_74718_row17_col0\" class=\"data row17 col0\" >Decision Tree Regressor</td>\n",
              "      <td id=\"T_74718_row17_col1\" class=\"data row17 col1\" >2.6233</td>\n",
              "      <td id=\"T_74718_row17_col2\" class=\"data row17 col2\" >10.1852</td>\n",
              "      <td id=\"T_74718_row17_col3\" class=\"data row17 col3\" >3.1892</td>\n",
              "      <td id=\"T_74718_row17_col4\" class=\"data row17 col4\" >-0.9435</td>\n",
              "      <td id=\"T_74718_row17_col5\" class=\"data row17 col5\" >0.4999</td>\n",
              "      <td id=\"T_74718_row17_col6\" class=\"data row17 col6\" >0.5371</td>\n",
              "      <td id=\"T_74718_row17_col7\" class=\"data row17 col7\" >0.0870</td>\n",
              "    </tr>\n",
              "    <tr>\n",
              "      <th id=\"T_74718_level0_row18\" class=\"row_heading level0 row18\" >par</th>\n",
              "      <td id=\"T_74718_row18_col0\" class=\"data row18 col0\" >Passive Aggressive Regressor</td>\n",
              "      <td id=\"T_74718_row18_col1\" class=\"data row18 col1\" >2.8111</td>\n",
              "      <td id=\"T_74718_row18_col2\" class=\"data row18 col2\" >12.0097</td>\n",
              "      <td id=\"T_74718_row18_col3\" class=\"data row18 col3\" >3.4499</td>\n",
              "      <td id=\"T_74718_row18_col4\" class=\"data row18 col4\" >-1.3004</td>\n",
              "      <td id=\"T_74718_row18_col5\" class=\"data row18 col5\" >0.5675</td>\n",
              "      <td id=\"T_74718_row18_col6\" class=\"data row18 col6\" >0.6027</td>\n",
              "      <td id=\"T_74718_row18_col7\" class=\"data row18 col7\" >0.0780</td>\n",
              "    </tr>\n",
              "  </tbody>\n",
              "</table>\n"
            ]
          },
          "metadata": {}
        },
        {
          "output_type": "display_data",
          "data": {
            "text/plain": [
              "Processing:   0%|          | 0/81 [00:00<?, ?it/s]"
            ],
            "application/vnd.jupyter.widget-view+json": {
              "version_major": 2,
              "version_minor": 0,
              "model_id": "dd0d54a62c45498ea56790151bec30a5"
            }
          },
          "metadata": {
            "application/vnd.jupyter.widget-view+json": {
              "colab": {
                "custom_widget_manager": {
                  "url": "https://ssl.gstatic.com/colaboratory-static/widgets/colab-cdn-widget-manager/2b70e893a8ba7c0f/manager.min.js"
                }
              }
            }
          }
        },
        {
          "output_type": "display_data",
          "data": {
            "text/plain": [
              "<IPython.core.display.HTML object>"
            ],
            "text/html": []
          },
          "metadata": {}
        }
      ]
    },
    {
      "cell_type": "code",
      "source": [
        "# Display the best model's details\n",
        "print(\"\\nBest Model:\")\n",
        "print(best_model)"
      ],
      "metadata": {
        "colab": {
          "base_uri": "https://localhost:8080/"
        },
        "id": "X-_r5BWI33Pn",
        "outputId": "d97f9ee8-2ef2-491e-8af1-abd2bb8437e4"
      },
      "execution_count": 89,
      "outputs": [
        {
          "output_type": "stream",
          "name": "stdout",
          "text": [
            "\n",
            "Best Model:\n",
            "OrthogonalMatchingPursuit()\n"
          ]
        }
      ]
    },
    {
      "cell_type": "code",
      "source": [
        "# Finalize the best model\n",
        "final_model = finalize_model(best_model)"
      ],
      "metadata": {
        "id": "QRM53vSP4Xa9"
      },
      "execution_count": 90,
      "outputs": []
    },
    {
      "cell_type": "code",
      "source": [
        "# Save the finalized model for future use\n",
        "save_model(final_model, 'best_fuel_cell_model')"
      ],
      "metadata": {
        "colab": {
          "base_uri": "https://localhost:8080/"
        },
        "id": "808787wD4XtT",
        "outputId": "8bdaeada-2efc-43de-c2ff-0c9df6a0b29a"
      },
      "execution_count": 91,
      "outputs": [
        {
          "output_type": "stream",
          "name": "stdout",
          "text": [
            "Transformation Pipeline and Model Successfully Saved\n"
          ]
        },
        {
          "output_type": "execute_result",
          "data": {
            "text/plain": [
              "(Pipeline(memory=Memory(location=None),\n",
              "          steps=[('numerical_imputer',\n",
              "                  TransformerWrapper(include=['F1', 'F2', 'F3', 'F4', 'F5', 'F6',\n",
              "                                              'F7', 'F8', 'F9', 'F10', 'F11',\n",
              "                                              'F12', 'F13', 'F14', 'F15'],\n",
              "                                     transformer=SimpleImputer())),\n",
              "                 ('categorical_imputer',\n",
              "                  TransformerWrapper(include=[],\n",
              "                                     transformer=SimpleImputer(strategy='most_frequent'))),\n",
              "                 ('transformation',\n",
              "                  TransformerWrapper(transformer=PowerTransformer(standardize=False))),\n",
              "                 ('normalize', TransformerWrapper(transformer=StandardScaler())),\n",
              "                 ('actual_estimator', OrthogonalMatchingPursuit())]),\n",
              " 'best_fuel_cell_model.pkl')"
            ]
          },
          "metadata": {},
          "execution_count": 91
        }
      ]
    },
    {
      "cell_type": "code",
      "source": [
        "# Evaluate the model using built-in PyCaret visualizations\n",
        "evaluate_model(final_model)"
      ],
      "metadata": {
        "colab": {
          "base_uri": "https://localhost:8080/",
          "height": 165,
          "referenced_widgets": [
            "6623b4f8450a410182c40c747e8a316d",
            "2c41532de68e4d97949e37c48c129964",
            "4d733863aafa40e3a13876edbc0038a2",
            "1967b672374b439fba682fd9a48d363c",
            "64e9ebe3eb374b089e944d866189419c",
            "4eb1cf0e1d824a1685d1c25bcba904e1",
            "d195becf76104ba6bc256dd186bdd9f6"
          ]
        },
        "id": "TEKWns6M4X_m",
        "outputId": "e7ea3d50-fb3b-4d09-c51e-7401a1b0669e"
      },
      "execution_count": 92,
      "outputs": [
        {
          "output_type": "display_data",
          "data": {
            "text/plain": [
              "interactive(children=(ToggleButtons(description='Plot Type:', icons=('',), options=(('Pipeline Plot', 'pipelin…"
            ],
            "application/vnd.jupyter.widget-view+json": {
              "version_major": 2,
              "version_minor": 0,
              "model_id": "6623b4f8450a410182c40c747e8a316d"
            }
          },
          "metadata": {
            "application/vnd.jupyter.widget-view+json": {
              "colab": {
                "custom_widget_manager": {
                  "url": "https://ssl.gstatic.com/colaboratory-static/widgets/colab-cdn-widget-manager/2b70e893a8ba7c0f/manager.min.js"
                }
              }
            }
          }
        }
      ]
    },
    {
      "cell_type": "code",
      "source": [
        "# Generate predictions on the test set\n",
        "predictions = predict_model(final_model)"
      ],
      "metadata": {
        "colab": {
          "base_uri": "https://localhost:8080/",
          "height": 80
        },
        "id": "iLt6bfRy4YNo",
        "outputId": "664c3f74-a68b-4b49-e88d-e6f0193cd70e"
      },
      "execution_count": 93,
      "outputs": [
        {
          "output_type": "display_data",
          "data": {
            "text/plain": [
              "<pandas.io.formats.style.Styler at 0x7f81e270b670>"
            ],
            "text/html": [
              "<style type=\"text/css\">\n",
              "</style>\n",
              "<table id=\"T_de0d5\" class=\"dataframe\">\n",
              "  <thead>\n",
              "    <tr>\n",
              "      <th class=\"blank level0\" >&nbsp;</th>\n",
              "      <th id=\"T_de0d5_level0_col0\" class=\"col_heading level0 col0\" >Model</th>\n",
              "      <th id=\"T_de0d5_level0_col1\" class=\"col_heading level0 col1\" >MAE</th>\n",
              "      <th id=\"T_de0d5_level0_col2\" class=\"col_heading level0 col2\" >MSE</th>\n",
              "      <th id=\"T_de0d5_level0_col3\" class=\"col_heading level0 col3\" >RMSE</th>\n",
              "      <th id=\"T_de0d5_level0_col4\" class=\"col_heading level0 col4\" >R2</th>\n",
              "      <th id=\"T_de0d5_level0_col5\" class=\"col_heading level0 col5\" >RMSLE</th>\n",
              "      <th id=\"T_de0d5_level0_col6\" class=\"col_heading level0 col6\" >MAPE</th>\n",
              "    </tr>\n",
              "  </thead>\n",
              "  <tbody>\n",
              "    <tr>\n",
              "      <th id=\"T_de0d5_level0_row0\" class=\"row_heading level0 row0\" >0</th>\n",
              "      <td id=\"T_de0d5_row0_col0\" class=\"data row0 col0\" >Orthogonal Matching Pursuit</td>\n",
              "      <td id=\"T_de0d5_row0_col1\" class=\"data row0 col1\" >1.8633</td>\n",
              "      <td id=\"T_de0d5_row0_col2\" class=\"data row0 col2\" >4.7188</td>\n",
              "      <td id=\"T_de0d5_row0_col3\" class=\"data row0 col3\" >2.1723</td>\n",
              "      <td id=\"T_de0d5_row0_col4\" class=\"data row0 col4\" >0.0205</td>\n",
              "      <td id=\"T_de0d5_row0_col5\" class=\"data row0 col5\" >0.3557</td>\n",
              "      <td id=\"T_de0d5_row0_col6\" class=\"data row0 col6\" >0.4338</td>\n",
              "    </tr>\n",
              "  </tbody>\n",
              "</table>\n"
            ]
          },
          "metadata": {}
        }
      ]
    },
    {
      "cell_type": "code",
      "source": [
        "# Display the first few predictions\n",
        "print(\"\\nFirst few predictions on the test set:\")\n",
        "print(predictions.head())"
      ],
      "metadata": {
        "colab": {
          "base_uri": "https://localhost:8080/"
        },
        "id": "NZzmp26M4YcN",
        "outputId": "8c824166-9c84-4c9e-c0ff-5d44827c5bf6"
      },
      "execution_count": 94,
      "outputs": [
        {
          "output_type": "stream",
          "name": "stdout",
          "text": [
            "\n",
            "First few predictions on the test set:\n",
            "            F1    F2         F3         F4          F5         F6     F7  \\\n",
            "521  53.299999  2.96  39.799999  29.850000  132.610001  39.200001  0.168   \n",
            "737  79.400002  1.34  67.699997  38.540001   95.220001  31.799999  0.100   \n",
            "740  57.400002  2.64  57.200001  47.099998  153.100006  46.599998  0.156   \n",
            "660  52.299999  2.27  64.099998  29.330000  123.169998  30.000000  0.266   \n",
            "411  87.199997  1.24  40.599998  15.390000   40.860001  32.099998  0.202   \n",
            "\n",
            "             F8   F9   F10         F11   F12   F13        F14   F15  Target4  \\\n",
            "521  250.199997  148  0.99   98.070000  2.33  5382  23.500000  1706     7.80   \n",
            "737  163.300003  198  0.99  102.834999  2.15  7648  26.299999  1675     8.44   \n",
            "740  268.100006  294  1.73  101.441002  1.90   852  25.799999  1203     3.65   \n",
            "660  108.099998  385  1.54  100.304001  2.82  8513  18.400000  1641     2.90   \n",
            "411  232.600006  302  1.54   99.363998  2.82  5708  23.100000   428     4.63   \n",
            "\n",
            "     prediction_label  \n",
            "521          6.079049  \n",
            "737          5.539664  \n",
            "740          5.702049  \n",
            "660          5.831672  \n",
            "411          5.936935  \n"
          ]
        }
      ]
    },
    {
      "cell_type": "code",
      "source": [
        "# Generate predictions for unseen data\n",
        "unseen_data = data.sample(5)  # Example new data\n",
        "new_predictions = predict_model(final_model, data=unseen_data)"
      ],
      "metadata": {
        "colab": {
          "base_uri": "https://localhost:8080/",
          "height": 80
        },
        "id": "-7m61WrC4uL4",
        "outputId": "83dca681-ed0d-44f9-c905-d002c70cf40f"
      },
      "execution_count": 95,
      "outputs": [
        {
          "output_type": "display_data",
          "data": {
            "text/plain": [
              "<pandas.io.formats.style.Styler at 0x7f81c5908c70>"
            ],
            "text/html": [
              "<style type=\"text/css\">\n",
              "</style>\n",
              "<table id=\"T_4dafd\" class=\"dataframe\">\n",
              "  <thead>\n",
              "    <tr>\n",
              "      <th class=\"blank level0\" >&nbsp;</th>\n",
              "      <th id=\"T_4dafd_level0_col0\" class=\"col_heading level0 col0\" >Model</th>\n",
              "      <th id=\"T_4dafd_level0_col1\" class=\"col_heading level0 col1\" >MAE</th>\n",
              "      <th id=\"T_4dafd_level0_col2\" class=\"col_heading level0 col2\" >MSE</th>\n",
              "      <th id=\"T_4dafd_level0_col3\" class=\"col_heading level0 col3\" >RMSE</th>\n",
              "      <th id=\"T_4dafd_level0_col4\" class=\"col_heading level0 col4\" >R2</th>\n",
              "      <th id=\"T_4dafd_level0_col5\" class=\"col_heading level0 col5\" >RMSLE</th>\n",
              "      <th id=\"T_4dafd_level0_col6\" class=\"col_heading level0 col6\" >MAPE</th>\n",
              "    </tr>\n",
              "  </thead>\n",
              "  <tbody>\n",
              "    <tr>\n",
              "      <th id=\"T_4dafd_level0_row0\" class=\"row_heading level0 row0\" >0</th>\n",
              "      <td id=\"T_4dafd_row0_col0\" class=\"data row0 col0\" >Orthogonal Matching Pursuit</td>\n",
              "      <td id=\"T_4dafd_row0_col1\" class=\"data row0 col1\" >2.1819</td>\n",
              "      <td id=\"T_4dafd_row0_col2\" class=\"data row0 col2\" >5.1776</td>\n",
              "      <td id=\"T_4dafd_row0_col3\" class=\"data row0 col3\" >2.2754</td>\n",
              "      <td id=\"T_4dafd_row0_col4\" class=\"data row0 col4\" >-0.0409</td>\n",
              "      <td id=\"T_4dafd_row0_col5\" class=\"data row0 col5\" >0.3669</td>\n",
              "      <td id=\"T_4dafd_row0_col6\" class=\"data row0 col6\" >0.4835</td>\n",
              "    </tr>\n",
              "  </tbody>\n",
              "</table>\n"
            ]
          },
          "metadata": {}
        }
      ]
    },
    {
      "cell_type": "code",
      "source": [
        "# Display predictions for unseen data\n",
        "print(\"\\nPredictions on unseen data:\")\n",
        "print(new_predictions)"
      ],
      "metadata": {
        "colab": {
          "base_uri": "https://localhost:8080/"
        },
        "id": "mAGsuLUX4uUA",
        "outputId": "d2fcb2b4-8a05-4c4b-c111-7ef315c654c3"
      },
      "execution_count": 96,
      "outputs": [
        {
          "output_type": "stream",
          "name": "stdout",
          "text": [
            "\n",
            "Predictions on unseen data:\n",
            "            F1    F2         F3         F4          F5         F6     F7  \\\n",
            "521  53.299999  2.96  39.799999  29.850000  132.610001  39.200001  0.168   \n",
            "737  79.400002  1.34  67.699997  38.540001   95.220001  31.799999  0.100   \n",
            "740  57.400002  2.64  57.200001  47.099998  153.100006  46.599998  0.156   \n",
            "660  52.299999  2.27  64.099998  29.330000  123.169998  30.000000  0.266   \n",
            "411  87.199997  1.24  40.599998  15.390000   40.860001  32.099998  0.202   \n",
            "\n",
            "             F8   F9   F10         F11   F12   F13        F14   F15  Target4  \\\n",
            "521  250.199997  148  0.99   98.070000  2.33  5382  23.500000  1706     7.80   \n",
            "737  163.300003  198  0.99  102.834999  2.15  7648  26.299999  1675     8.44   \n",
            "740  268.100006  294  1.73  101.441002  1.90   852  25.799999  1203     3.65   \n",
            "660  108.099998  385  1.54  100.304001  2.82  8513  18.400000  1641     2.90   \n",
            "411  232.600006  302  1.54   99.363998  2.82  5708  23.100000   428     4.63   \n",
            "\n",
            "     prediction_label  \n",
            "521          6.078582  \n",
            "737          5.531391  \n",
            "740          5.696550  \n",
            "660          5.828130  \n",
            "411          5.934809  \n"
          ]
        }
      ]
    },
    {
      "cell_type": "code",
      "source": [
        "# Prediction Error Plot (compares predicted vs actual)\n",
        "plot_model(final_model, plot='error')"
      ],
      "metadata": {
        "colab": {
          "base_uri": "https://localhost:8080/",
          "height": 526
        },
        "id": "l5SCq8Gm7TVD",
        "outputId": "9f55c1d9-00fd-441b-b5f9-27b21c0ad1ea"
      },
      "execution_count": 97,
      "outputs": [
        {
          "output_type": "display_data",
          "data": {
            "text/plain": [
              "<IPython.core.display.HTML object>"
            ],
            "text/html": []
          },
          "metadata": {}
        },
        {
          "output_type": "display_data",
          "data": {
            "text/plain": [
              "<Figure size 800x550 with 1 Axes>"
            ],
            "image/png": "[encoded data removed]"
          },
          "metadata": {}
        }
      ]
    }
  ]
}